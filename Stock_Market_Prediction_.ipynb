{
  "nbformat": 4,
  "nbformat_minor": 0,
  "metadata": {
    "colab": {
      "name": "Stock Market Prediction .ipynb",
      "provenance": [],
      "collapsed_sections": []
    },
    "kernelspec": {
      "name": "python3",
      "display_name": "Python 3"
    }
  },
  "cells": [
    {
      "cell_type": "markdown",
      "metadata": {
        "id": "WDNzfaTvQXmp"
      },
      "source": [
        "library"
      ]
    },
    {
      "cell_type": "code",
      "metadata": {
        "id": "UMv3LclMN35u",
        "colab": {
          "base_uri": "https://localhost:8080/"
        },
        "outputId": "944f57f6-9c7f-4c56-9dc9-d5128dbbacb5"
      },
      "source": [
        "import numpy as np \r\n",
        "import random\r\n",
        "import pandas as pd \r\n",
        "import matplotlib.pyplot as plt\r\n",
        "from pandas import datetime\r\n",
        "import math, time\r\n",
        "import itertools\r\n",
        "from sklearn import preprocessing\r\n",
        "#from sklearn.preprocessing import MinMaxScaler\r\n",
        "import datetime\r\n",
        "from operator import itemgetter\r\n",
        "from sklearn.metrics import mean_squared_error\r\n",
        "from math import sqrt\r\n",
        "import torch\r\n",
        "import torch.nn as nn\r\n",
        "from torch.autograd import Variable\r\n",
        "from sklearn.preprocessing import StandardScaler\r\n",
        "from google.colab import drive\r\n",
        "drive.mount('/content/drive')\r\n"
      ],
      "execution_count": 1,
      "outputs": [
        {
          "output_type": "stream",
          "text": [
            "Drive already mounted at /content/drive; to attempt to forcibly remount, call drive.mount(\"/content/drive\", force_remount=True).\n"
          ],
          "name": "stdout"
        }
      ]
    },
    {
      "cell_type": "code",
      "metadata": {
        "id": "MudKVN-QLW_a"
      },
      "source": [
        "#Device configuration\r\n",
        "device = torch.device('cuda' if torch.cuda.is_available() else 'cpu')"
      ],
      "execution_count": 3,
      "outputs": []
    },
    {
      "cell_type": "markdown",
      "metadata": {
        "id": "q7LztjTLQdCl"
      },
      "source": [
        "Data"
      ]
    },
    {
      "cell_type": "code",
      "metadata": {
        "id": "qYloyo52Qer2",
        "colab": {
          "base_uri": "https://localhost:8080/",
          "height": 411
        },
        "outputId": "1f493fdb-04f3-4a7a-8538-6a1ee287a7dc"
      },
      "source": [
        "df = pd.read_csv(\"/content/drive/MyDrive/Colab Notebooks/Price.csv\")\r\n",
        "df"
      ],
      "execution_count": 4,
      "outputs": [
        {
          "output_type": "execute_result",
          "data": {
            "text/html": [
              "<div>\n",
              "<style scoped>\n",
              "    .dataframe tbody tr th:only-of-type {\n",
              "        vertical-align: middle;\n",
              "    }\n",
              "\n",
              "    .dataframe tbody tr th {\n",
              "        vertical-align: top;\n",
              "    }\n",
              "\n",
              "    .dataframe thead th {\n",
              "        text-align: right;\n",
              "    }\n",
              "</style>\n",
              "<table border=\"1\" class=\"dataframe\">\n",
              "  <thead>\n",
              "    <tr style=\"text-align: right;\">\n",
              "      <th></th>\n",
              "      <th>date</th>\n",
              "      <th>symbol</th>\n",
              "      <th>open</th>\n",
              "      <th>close</th>\n",
              "      <th>low</th>\n",
              "      <th>high</th>\n",
              "      <th>volume</th>\n",
              "    </tr>\n",
              "  </thead>\n",
              "  <tbody>\n",
              "    <tr>\n",
              "      <th>0</th>\n",
              "      <td>2016-01-05</td>\n",
              "      <td>WLTW</td>\n",
              "      <td>123.430000</td>\n",
              "      <td>125.839996</td>\n",
              "      <td>122.309998</td>\n",
              "      <td>126.250000</td>\n",
              "      <td>2163600.0</td>\n",
              "    </tr>\n",
              "    <tr>\n",
              "      <th>1</th>\n",
              "      <td>2016-01-06</td>\n",
              "      <td>WLTW</td>\n",
              "      <td>125.239998</td>\n",
              "      <td>119.980003</td>\n",
              "      <td>119.940002</td>\n",
              "      <td>125.540001</td>\n",
              "      <td>2386400.0</td>\n",
              "    </tr>\n",
              "    <tr>\n",
              "      <th>2</th>\n",
              "      <td>2016-01-07</td>\n",
              "      <td>WLTW</td>\n",
              "      <td>116.379997</td>\n",
              "      <td>114.949997</td>\n",
              "      <td>114.930000</td>\n",
              "      <td>119.739998</td>\n",
              "      <td>2489500.0</td>\n",
              "    </tr>\n",
              "    <tr>\n",
              "      <th>3</th>\n",
              "      <td>2016-01-08</td>\n",
              "      <td>WLTW</td>\n",
              "      <td>115.480003</td>\n",
              "      <td>116.620003</td>\n",
              "      <td>113.500000</td>\n",
              "      <td>117.440002</td>\n",
              "      <td>2006300.0</td>\n",
              "    </tr>\n",
              "    <tr>\n",
              "      <th>4</th>\n",
              "      <td>2016-01-11</td>\n",
              "      <td>WLTW</td>\n",
              "      <td>117.010002</td>\n",
              "      <td>114.970001</td>\n",
              "      <td>114.089996</td>\n",
              "      <td>117.330002</td>\n",
              "      <td>1408600.0</td>\n",
              "    </tr>\n",
              "    <tr>\n",
              "      <th>...</th>\n",
              "      <td>...</td>\n",
              "      <td>...</td>\n",
              "      <td>...</td>\n",
              "      <td>...</td>\n",
              "      <td>...</td>\n",
              "      <td>...</td>\n",
              "      <td>...</td>\n",
              "    </tr>\n",
              "    <tr>\n",
              "      <th>851259</th>\n",
              "      <td>2016-12-30</td>\n",
              "      <td>ZBH</td>\n",
              "      <td>103.309998</td>\n",
              "      <td>103.199997</td>\n",
              "      <td>102.849998</td>\n",
              "      <td>103.930000</td>\n",
              "      <td>973800.0</td>\n",
              "    </tr>\n",
              "    <tr>\n",
              "      <th>851260</th>\n",
              "      <td>2016-12-30</td>\n",
              "      <td>ZION</td>\n",
              "      <td>43.070000</td>\n",
              "      <td>43.040001</td>\n",
              "      <td>42.689999</td>\n",
              "      <td>43.310001</td>\n",
              "      <td>1938100.0</td>\n",
              "    </tr>\n",
              "    <tr>\n",
              "      <th>851261</th>\n",
              "      <td>2016-12-30</td>\n",
              "      <td>ZTS</td>\n",
              "      <td>53.639999</td>\n",
              "      <td>53.529999</td>\n",
              "      <td>53.270000</td>\n",
              "      <td>53.740002</td>\n",
              "      <td>1701200.0</td>\n",
              "    </tr>\n",
              "    <tr>\n",
              "      <th>851262</th>\n",
              "      <td>2016-12-30</td>\n",
              "      <td>AIV</td>\n",
              "      <td>44.730000</td>\n",
              "      <td>45.450001</td>\n",
              "      <td>44.410000</td>\n",
              "      <td>45.590000</td>\n",
              "      <td>1380900.0</td>\n",
              "    </tr>\n",
              "    <tr>\n",
              "      <th>851263</th>\n",
              "      <td>2016-12-30</td>\n",
              "      <td>FTV</td>\n",
              "      <td>54.200001</td>\n",
              "      <td>53.630001</td>\n",
              "      <td>53.389999</td>\n",
              "      <td>54.480000</td>\n",
              "      <td>705100.0</td>\n",
              "    </tr>\n",
              "  </tbody>\n",
              "</table>\n",
              "<p>851264 rows × 7 columns</p>\n",
              "</div>"
            ],
            "text/plain": [
              "              date symbol        open  ...         low        high     volume\n",
              "0       2016-01-05   WLTW  123.430000  ...  122.309998  126.250000  2163600.0\n",
              "1       2016-01-06   WLTW  125.239998  ...  119.940002  125.540001  2386400.0\n",
              "2       2016-01-07   WLTW  116.379997  ...  114.930000  119.739998  2489500.0\n",
              "3       2016-01-08   WLTW  115.480003  ...  113.500000  117.440002  2006300.0\n",
              "4       2016-01-11   WLTW  117.010002  ...  114.089996  117.330002  1408600.0\n",
              "...            ...    ...         ...  ...         ...         ...        ...\n",
              "851259  2016-12-30    ZBH  103.309998  ...  102.849998  103.930000   973800.0\n",
              "851260  2016-12-30   ZION   43.070000  ...   42.689999   43.310001  1938100.0\n",
              "851261  2016-12-30    ZTS   53.639999  ...   53.270000   53.740002  1701200.0\n",
              "851262  2016-12-30    AIV   44.730000  ...   44.410000   45.590000  1380900.0\n",
              "851263  2016-12-30    FTV   54.200001  ...   53.389999   54.480000   705100.0\n",
              "\n",
              "[851264 rows x 7 columns]"
            ]
          },
          "metadata": {
            "tags": []
          },
          "execution_count": 4
        }
      ]
    },
    {
      "cell_type": "code",
      "metadata": {
        "colab": {
          "base_uri": "https://localhost:8080/"
        },
        "id": "dKbhcYzKGbo9",
        "outputId": "4aa2ae77-0618-421c-f549-050184afe032"
      },
      "source": [
        "df.info()"
      ],
      "execution_count": 174,
      "outputs": [
        {
          "output_type": "stream",
          "text": [
            "<class 'pandas.core.frame.DataFrame'>\n",
            "RangeIndex: 851264 entries, 0 to 851263\n",
            "Data columns (total 7 columns):\n",
            " #   Column  Non-Null Count   Dtype  \n",
            "---  ------  --------------   -----  \n",
            " 0   date    851264 non-null  object \n",
            " 1   symbol  851264 non-null  object \n",
            " 2   open    851264 non-null  float64\n",
            " 3   close   851264 non-null  float64\n",
            " 4   low     851264 non-null  float64\n",
            " 5   high    851264 non-null  float64\n",
            " 6   volume  851264 non-null  float64\n",
            "dtypes: float64(5), object(2)\n",
            "memory usage: 45.5+ MB\n"
          ],
          "name": "stdout"
        }
      ]
    },
    {
      "cell_type": "markdown",
      "metadata": {
        "id": "BfJ2TX3YQrLG"
      },
      "source": [
        "PreProcess"
      ]
    },
    {
      "cell_type": "code",
      "metadata": {
        "id": "cW04A622QxyO",
        "colab": {
          "base_uri": "https://localhost:8080/"
        },
        "outputId": "6baedb93-7307-4f4c-83cf-96d87aba86c2"
      },
      "source": [
        "stock_df = df[df.symbol == 'YHOO'] #choose one stock\r\n",
        "print(stock_df)"
      ],
      "execution_count": 5,
      "outputs": [
        {
          "output_type": "stream",
          "text": [
            "              date symbol       open  ...        low       high      volume\n",
            "713     2010-01-04   YHOO  16.940001  ...  16.879999  17.200001  16587400.0\n",
            "1181    2010-01-05   YHOO  17.219999  ...  17.000000  17.230000  11718100.0\n",
            "1649    2010-01-06   YHOO  17.170000  ...  17.070000  17.299999  16422000.0\n",
            "2117    2010-01-07   YHOO  16.809999  ...  16.570000  16.900000  31816300.0\n",
            "2585    2010-01-08   YHOO  16.680000  ...  16.620001  16.760000  15470000.0\n",
            "...            ...    ...        ...  ...        ...        ...         ...\n",
            "849257  2016-12-23   YHOO  38.459999  ...  38.369999  38.810001   3840100.0\n",
            "849757  2016-12-27   YHOO  38.590000  ...  38.500000  39.070000   4240300.0\n",
            "850257  2016-12-28   YHOO  39.119999  ...  38.709999  39.220001   4393500.0\n",
            "850757  2016-12-29   YHOO  38.759998  ...  38.480000  38.930000   4170200.0\n",
            "851257  2016-12-30   YHOO  38.720001  ...  38.430000  39.000000   6431600.0\n",
            "\n",
            "[1762 rows x 7 columns]\n"
          ],
          "name": "stdout"
        }
      ]
    },
    {
      "cell_type": "code",
      "metadata": {
        "colab": {
          "base_uri": "https://localhost:8080/",
          "height": 200
        },
        "id": "I9x7w7MvOPNH",
        "outputId": "94b4ac72-a1e3-4055-ab3e-fa11a9e53dc2"
      },
      "source": [
        "stock_df.tail()"
      ],
      "execution_count": 6,
      "outputs": [
        {
          "output_type": "execute_result",
          "data": {
            "text/html": [
              "<div>\n",
              "<style scoped>\n",
              "    .dataframe tbody tr th:only-of-type {\n",
              "        vertical-align: middle;\n",
              "    }\n",
              "\n",
              "    .dataframe tbody tr th {\n",
              "        vertical-align: top;\n",
              "    }\n",
              "\n",
              "    .dataframe thead th {\n",
              "        text-align: right;\n",
              "    }\n",
              "</style>\n",
              "<table border=\"1\" class=\"dataframe\">\n",
              "  <thead>\n",
              "    <tr style=\"text-align: right;\">\n",
              "      <th></th>\n",
              "      <th>date</th>\n",
              "      <th>symbol</th>\n",
              "      <th>open</th>\n",
              "      <th>close</th>\n",
              "      <th>low</th>\n",
              "      <th>high</th>\n",
              "      <th>volume</th>\n",
              "    </tr>\n",
              "  </thead>\n",
              "  <tbody>\n",
              "    <tr>\n",
              "      <th>849257</th>\n",
              "      <td>2016-12-23</td>\n",
              "      <td>YHOO</td>\n",
              "      <td>38.459999</td>\n",
              "      <td>38.660000</td>\n",
              "      <td>38.369999</td>\n",
              "      <td>38.810001</td>\n",
              "      <td>3840100.0</td>\n",
              "    </tr>\n",
              "    <tr>\n",
              "      <th>849757</th>\n",
              "      <td>2016-12-27</td>\n",
              "      <td>YHOO</td>\n",
              "      <td>38.590000</td>\n",
              "      <td>38.919998</td>\n",
              "      <td>38.500000</td>\n",
              "      <td>39.070000</td>\n",
              "      <td>4240300.0</td>\n",
              "    </tr>\n",
              "    <tr>\n",
              "      <th>850257</th>\n",
              "      <td>2016-12-28</td>\n",
              "      <td>YHOO</td>\n",
              "      <td>39.119999</td>\n",
              "      <td>38.730000</td>\n",
              "      <td>38.709999</td>\n",
              "      <td>39.220001</td>\n",
              "      <td>4393500.0</td>\n",
              "    </tr>\n",
              "    <tr>\n",
              "      <th>850757</th>\n",
              "      <td>2016-12-29</td>\n",
              "      <td>YHOO</td>\n",
              "      <td>38.759998</td>\n",
              "      <td>38.639999</td>\n",
              "      <td>38.480000</td>\n",
              "      <td>38.930000</td>\n",
              "      <td>4170200.0</td>\n",
              "    </tr>\n",
              "    <tr>\n",
              "      <th>851257</th>\n",
              "      <td>2016-12-30</td>\n",
              "      <td>YHOO</td>\n",
              "      <td>38.720001</td>\n",
              "      <td>38.669998</td>\n",
              "      <td>38.430000</td>\n",
              "      <td>39.000000</td>\n",
              "      <td>6431600.0</td>\n",
              "    </tr>\n",
              "  </tbody>\n",
              "</table>\n",
              "</div>"
            ],
            "text/plain": [
              "              date symbol       open  ...        low       high     volume\n",
              "849257  2016-12-23   YHOO  38.459999  ...  38.369999  38.810001  3840100.0\n",
              "849757  2016-12-27   YHOO  38.590000  ...  38.500000  39.070000  4240300.0\n",
              "850257  2016-12-28   YHOO  39.119999  ...  38.709999  39.220001  4393500.0\n",
              "850757  2016-12-29   YHOO  38.759998  ...  38.480000  38.930000  4170200.0\n",
              "851257  2016-12-30   YHOO  38.720001  ...  38.430000  39.000000  6431600.0\n",
              "\n",
              "[5 rows x 7 columns]"
            ]
          },
          "metadata": {
            "tags": []
          },
          "execution_count": 6
        }
      ]
    },
    {
      "cell_type": "code",
      "metadata": {
        "colab": {
          "base_uri": "https://localhost:8080/"
        },
        "id": "Fe_GjX3XObAA",
        "outputId": "4eeea5d6-0a0e-4ad7-f1ca-b7c42ef731a1"
      },
      "source": [
        "stock_df_dates = pd.to_datetime(df['date'])\r\n",
        "print(stock_df_dates)\r\n"
      ],
      "execution_count": 6,
      "outputs": [
        {
          "output_type": "stream",
          "text": [
            "0        2016-01-05\n",
            "1        2016-01-06\n",
            "2        2016-01-07\n",
            "3        2016-01-08\n",
            "4        2016-01-11\n",
            "            ...    \n",
            "851259   2016-12-30\n",
            "851260   2016-12-30\n",
            "851261   2016-12-30\n",
            "851262   2016-12-30\n",
            "851263   2016-12-30\n",
            "Name: date, Length: 851264, dtype: datetime64[ns]\n"
          ],
          "name": "stdout"
        }
      ]
    },
    {
      "cell_type": "code",
      "metadata": {
        "colab": {
          "base_uri": "https://localhost:8080/"
        },
        "id": "W4Y5_lWPgSOO",
        "outputId": "ada11b44-f2c8-499b-9a1e-ebc88d1784ad"
      },
      "source": [
        "cols = list(stock_df)[2:7]\r\n",
        "print(cols)\r\n",
        "df_training = stock_df[cols].astype(float)\r\n",
        "print(df_training)"
      ],
      "execution_count": 8,
      "outputs": [
        {
          "output_type": "stream",
          "text": [
            "['open', 'close', 'low', 'high', 'volume']\n",
            "             open      close        low       high      volume\n",
            "713     16.940001  17.100000  16.879999  17.200001  16587400.0\n",
            "1181    17.219999  17.230000  17.000000  17.230000  11718100.0\n",
            "1649    17.170000  17.170000  17.070000  17.299999  16422000.0\n",
            "2117    16.809999  16.700001  16.570000  16.900000  31816300.0\n",
            "2585    16.680000  16.700001  16.620001  16.760000  15470000.0\n",
            "...           ...        ...        ...        ...         ...\n",
            "849257  38.459999  38.660000  38.369999  38.810001   3840100.0\n",
            "849757  38.590000  38.919998  38.500000  39.070000   4240300.0\n",
            "850257  39.119999  38.730000  38.709999  39.220001   4393500.0\n",
            "850757  38.759998  38.639999  38.480000  38.930000   4170200.0\n",
            "851257  38.720001  38.669998  38.430000  39.000000   6431600.0\n",
            "\n",
            "[1762 rows x 5 columns]\n"
          ],
          "name": "stdout"
        }
      ]
    },
    {
      "cell_type": "code",
      "metadata": {
        "id": "apagLFZ5h5aE",
        "colab": {
          "base_uri": "https://localhost:8080/"
        },
        "outputId": "7eee896b-a88e-4b8b-c2f9-cc90f7a4733c"
      },
      "source": [
        "scaler = StandardScaler()\r\n",
        "scaler = scaler.fit(df_training)\r\n",
        "df_training_scaled = scaler.transform(df_training)\r\n",
        "\r\n",
        "df_training_scaled.shape"
      ],
      "execution_count": 9,
      "outputs": [
        {
          "output_type": "execute_result",
          "data": {
            "text/plain": [
              "(1762, 5)"
            ]
          },
          "metadata": {
            "tags": []
          },
          "execution_count": 9
        }
      ]
    },
    {
      "cell_type": "code",
      "metadata": {
        "id": "wjnNh3WRtFdH"
      },
      "source": [
        "#splitting\r\n",
        "train_size = int(len(df_training_scaled)*.8)\r\n",
        "test_size = len(df_training_scaled)-train_size\r\n",
        "train_data = df_training_scaled[0:train_size,:]\r\n",
        "test_data = df_training_scaled[train_size:len(df_training_scaled),:] "
      ],
      "execution_count": 10,
      "outputs": []
    },
    {
      "cell_type": "code",
      "metadata": {
        "id": "nripmIkhRggX",
        "colab": {
          "base_uri": "https://localhost:8080/"
        },
        "outputId": "6972885a-af2a-430c-fa9b-5bb3fd901222"
      },
      "source": [
        "#data for lstm\r\n",
        "n_future = 1\r\n",
        "n_past = 14\r\n",
        "\r\n",
        "trainx = []\r\n",
        "trainy = []\r\n",
        "\r\n",
        "for i in range(n_past, len(train_data) - n_future +1):\r\n",
        "   trainx.append(train_data[i - n_past:i, 0:train_data.shape[1]])\r\n",
        "   trainy.append(train_data[i + n_future-1:i + n_future, 0])\r\n",
        "  \r\n",
        "trainX , trainY = np.array(trainx) , np.array(trainy)\r\n",
        "\r\n",
        "testx = []\r\n",
        "testy = []\r\n",
        "\r\n",
        "for i in range(n_past, len(test_data) - n_future +1):\r\n",
        "   testx.append(test_data[i - n_past:i, 0:train_data.shape[1]])\r\n",
        "   testy.append(test_data[i + n_future-1:i + n_future, 0])\r\n",
        "  \r\n",
        "testX , testY = np.array(testx) , np.array(testy)\r\n",
        "\r\n",
        "print(\"trainX shape == {}.\".format(trainX.shape))\r\n",
        "print(\"trainY shape == {}.\".format(trainY.shape))\r\n",
        "print(\"testX shape == {}.\".format(testX.shape))\r\n",
        "print(\"testY shape == {}.\".format(testY.shape))\r\n"
      ],
      "execution_count": 11,
      "outputs": [
        {
          "output_type": "stream",
          "text": [
            "trainX shape == (1395, 14, 5).\n",
            "trainY shape == (1395, 1).\n",
            "testX shape == (339, 14, 5).\n",
            "testY shape == (339, 1).\n"
          ],
          "name": "stdout"
        }
      ]
    },
    {
      "cell_type": "code",
      "metadata": {
        "id": "znkh4JNpnHM5"
      },
      "source": [
        "x_train = torch.from_numpy(trainX).type(torch.Tensor)\r\n",
        "x_test = torch.from_numpy(testX).type(torch.Tensor)\r\n",
        "y_train = torch.from_numpy(trainY).type(torch.Tensor)\r\n",
        "y_test = torch.from_numpy(testY).type(torch.Tensor)"
      ],
      "execution_count": 24,
      "outputs": []
    },
    {
      "cell_type": "code",
      "metadata": {
        "colab": {
          "base_uri": "https://localhost:8080/"
        },
        "id": "zqyIppkBBcdj",
        "outputId": "b1747223-7506-484a-bec6-3327308301b5"
      },
      "source": [
        "x_test.size()"
      ],
      "execution_count": 25,
      "outputs": [
        {
          "output_type": "execute_result",
          "data": {
            "text/plain": [
              "torch.Size([339, 14, 5])"
            ]
          },
          "metadata": {
            "tags": []
          },
          "execution_count": 25
        }
      ]
    },
    {
      "cell_type": "code",
      "metadata": {
        "id": "PHd7WzKyn4zN"
      },
      "source": [
        "# Hyper-parameters \r\n",
        "input_size = 5\r\n",
        "seq_length = 14\r\n",
        "hidden_size = 2\r\n",
        "num_classes = 1\r\n",
        "batch_size = 16\r\n",
        "learning_rate = 0.001\r\n",
        "num_layers = 1\r\n",
        "num_timesteps = 14"
      ],
      "execution_count": 14,
      "outputs": []
    },
    {
      "cell_type": "code",
      "metadata": {
        "id": "R3amYn2rngmV"
      },
      "source": [
        "\r\n",
        "train = torch.utils.data.TensorDataset(x_train,y_train)\r\n",
        "test = torch.utils.data.TensorDataset(x_test,y_test)\r\n",
        "\r\n",
        "train_loader = torch.utils.data.DataLoader(dataset=train, \r\n",
        "                                           batch_size=batch_size, \r\n",
        "                                           shuffle=False)\r\n",
        "\r\n",
        "test_loader = torch.utils.data.DataLoader(dataset=test, \r\n",
        "                                          batch_size=batch_size, \r\n",
        "                                          shuffle=False)\r\n"
      ],
      "execution_count": 26,
      "outputs": []
    },
    {
      "cell_type": "code",
      "metadata": {
        "colab": {
          "base_uri": "https://localhost:8080/"
        },
        "id": "xGEtMgaQ7gcr",
        "outputId": "cc79f136-fb38-475f-efc4-43f4930eb4bb"
      },
      "source": [
        "test_loader"
      ],
      "execution_count": 27,
      "outputs": [
        {
          "output_type": "execute_result",
          "data": {
            "text/plain": [
              "<torch.utils.data.dataloader.DataLoader at 0x7f37690897f0>"
            ]
          },
          "metadata": {
            "tags": []
          },
          "execution_count": 27
        }
      ]
    },
    {
      "cell_type": "markdown",
      "metadata": {
        "id": "F2RJHghhBC1m"
      },
      "source": [
        "Model"
      ]
    },
    {
      "cell_type": "code",
      "metadata": {
        "id": "YCQT6aKBwRaA"
      },
      "source": [
        "class MV_LSTM(nn.Module):\r\n",
        "    def __init__(self, input_size, hidden_size):\r\n",
        "        super(MV_LSTM, self).__init__()\r\n",
        "        self.input_size = input_size\r\n",
        "        self.num_layers = num_layers \r\n",
        "        self.hidden_size = hidden_size\r\n",
        "        self.seq_length = seq_length\r\n",
        "        self.lstm = nn.LSTM(input_size, hidden_size, num_layers, batch_first=True) \r\n",
        "        #(batch, seq, input)\r\n",
        "        self.dropout = nn.Dropout(0.3)\r\n",
        "        self.fc = nn.Linear(hidden_size*seq_length, 1)\r\n",
        "\r\n",
        "    def init_hidden(self, batch_size):\r\n",
        "        h0 = torch.zeros(self.num_layers, batch_size, self.hidden_size)\r\n",
        "        c0 = torch.zeros(self.num_layers, batch_size, self.hidden_size) \r\n",
        "        self.hidden = (h0,c0)\r\n",
        "   \r\n",
        "    def forward(self, x):\r\n",
        "        batch_size, seq_length, _ = x.size()\r\n",
        "        lstm_out, self.hidden = self.lstm(x, self.hidden)\r\n",
        "        x = lstm_out.contiguous().view(batch_size, -1)\r\n",
        "        out = self.fc(x)\r\n",
        "        return out\r\n",
        "\r\n",
        "mv_model = MV_LSTM(input_size, hidden_size).to(device)"
      ],
      "execution_count": 15,
      "outputs": []
    },
    {
      "cell_type": "code",
      "metadata": {
        "colab": {
          "base_uri": "https://localhost:8080/"
        },
        "id": "GQA1qFKKG7JR",
        "outputId": "13620f87-4208-4b04-924f-aa80c73b871e"
      },
      "source": [
        "#create\r\n",
        "criterion = nn.MSELoss()\r\n",
        "optimizer = torch.optim.Adam(mv_model.parameters(), lr=learning_rate)  \r\n",
        "print(mv_model)"
      ],
      "execution_count": 16,
      "outputs": [
        {
          "output_type": "stream",
          "text": [
            "MV_LSTM(\n",
            "  (lstm): LSTM(5, 2, batch_first=True)\n",
            "  (dropout): Dropout(p=0.3, inplace=False)\n",
            "  (fc): Linear(in_features=28, out_features=1, bias=True)\n",
            ")\n"
          ],
          "name": "stdout"
        }
      ]
    },
    {
      "cell_type": "code",
      "metadata": {
        "colab": {
          "base_uri": "https://localhost:8080/"
        },
        "id": "RmxiCm0lDltA",
        "outputId": "dd21e36b-68fc-4e22-b0ff-f0599453c695"
      },
      "source": [
        "#Training\r\n",
        "train_episodes = 100\r\n",
        "hist = np.zeros(train_episodes)\r\n",
        "mv_model.train()\r\n",
        "for t in range(train_episodes):\r\n",
        "    for b in range(0,len(trainX),batch_size):\r\n",
        "        inpt = trainX[b:b+batch_size,:,:]\r\n",
        "        target =trainY[b:b+batch_size]    \r\n",
        "        \r\n",
        "        x_batch = torch.tensor(inpt,dtype=torch.float32)    \r\n",
        "        y_batch = torch.tensor(target,dtype=torch.float32)\r\n",
        "       \r\n",
        "    \r\n",
        "        mv_model.init_hidden(x_batch.size(0))\r\n",
        "    #    lstm_out, _ = mv_net.l_lstm(x_batch,nnet.hidden)    \r\n",
        "    #    lstm_out.contiguous().view(x_batch.size(0),-1)\r\n",
        "        output = mv_model(x_batch) \r\n",
        "        loss = criterion(output.view(-1), y_batch)\r\n",
        "        hist[t] = loss.item()\r\n",
        "        optimizer.zero_grad() \r\n",
        "        loss.backward()\r\n",
        "        optimizer.step()   \r\n",
        "\r\n",
        "\r\n",
        "    if t % 10 == 0 and t !=0:\r\n",
        "      print('epoch : ' , t , 'loss : ' , loss.item())\r\n",
        "\r\n"
      ],
      "execution_count": 70,
      "outputs": [
        {
          "output_type": "stream",
          "text": [
            "/usr/local/lib/python3.6/dist-packages/torch/nn/modules/loss.py:446: UserWarning: Using a target size (torch.Size([16, 1])) that is different to the input size (torch.Size([16])). This will likely lead to incorrect results due to broadcasting. Please ensure they have the same size.\n",
            "  return F.mse_loss(input, target, reduction=self.reduction)\n",
            "/usr/local/lib/python3.6/dist-packages/torch/nn/modules/loss.py:446: UserWarning: Using a target size (torch.Size([3, 1])) that is different to the input size (torch.Size([3])). This will likely lead to incorrect results due to broadcasting. Please ensure they have the same size.\n",
            "  return F.mse_loss(input, target, reduction=self.reduction)\n"
          ],
          "name": "stderr"
        },
        {
          "output_type": "stream",
          "text": [
            "epoch :  10 loss :  0.0018423907458782196\n",
            "epoch :  20 loss :  0.0017257591243833303\n",
            "epoch :  30 loss :  0.0016366703202947974\n",
            "epoch :  40 loss :  0.0015701311640441418\n",
            "epoch :  50 loss :  0.0015208745608106256\n",
            "epoch :  60 loss :  0.0014845333062112331\n",
            "epoch :  70 loss :  0.0014579554554075003\n",
            "epoch :  80 loss :  0.001439007930457592\n",
            "epoch :  90 loss :  0.001426180824637413\n"
          ],
          "name": "stdout"
        }
      ]
    },
    {
      "cell_type": "code",
      "metadata": {
        "colab": {
          "base_uri": "https://localhost:8080/"
        },
        "id": "Wd_tbfmYaq_m",
        "outputId": "f10325bb-b6c1-4e86-8d1e-3101e98d34c7"
      },
      "source": [
        " x_batch.size()"
      ],
      "execution_count": 18,
      "outputs": [
        {
          "output_type": "execute_result",
          "data": {
            "text/plain": [
              "torch.Size([3, 14, 5])"
            ]
          },
          "metadata": {
            "tags": []
          },
          "execution_count": 18
        }
      ]
    },
    {
      "cell_type": "code",
      "metadata": {
        "id": "1--BSMIh4r2V"
      },
      "source": [
        "#def test():\r\n",
        " # correct = 0\r\n",
        "  #total = 0\r\n",
        "  #Tru = []\r\n",
        "  #Pred = []\r\n",
        "  #with torch.no_grad():\r\n",
        "   # for data in test_loader:\r\n",
        "   #   inpt, target = data\r\n",
        "   #   inpt = inpt.to(device)\r\n",
        "   #   target = target.to(device)\r\n",
        "   #   Tru.append(target.item())\r\n",
        "   #   out = mv_model(inpt)\r\n",
        "   #   _, preds = torch.max(out.data, 1)\r\n",
        "   #    total += target.size()\r\n",
        "   #   correct += (preds == target).sum().item()\r\n",
        "   # acc = correct/total\r\n",
        "  #return(Tru, Pred, correct, total, acc)"
      ],
      "execution_count": 21,
      "outputs": []
    },
    {
      "cell_type": "code",
      "metadata": {
        "id": "vGRUX--xBYwB"
      },
      "source": [
        ""
      ],
      "execution_count": null,
      "outputs": []
    },
    {
      "cell_type": "code",
      "metadata": {
        "colab": {
          "base_uri": "https://localhost:8080/"
        },
        "id": "KeE_hRjh7OkG",
        "outputId": "128dae56-67a9-4830-f1bc-ef54abec4e9b"
      },
      "source": [
        "test_episodes = 100\r\n",
        "mv_model.eval()\r\n",
        "for t in range(test_episodes):\r\n",
        "    for b in range(0,len(testX),batch_size):\r\n",
        "        inpt_t = testX[b:b+batch_size,:,:]\r\n",
        "        target_t =testY[b:b+batch_size]    \r\n",
        "        \r\n",
        "        x_batch_t = torch.tensor(inpt_t,dtype=torch.float32)    \r\n",
        "        y_batch_t = torch.tensor(target_t,dtype=torch.float32)\r\n",
        "       \r\n",
        "    \r\n",
        "        mv_model.init_hidden(x_batch_t.size(0))\r\n",
        "    #    lstm_out, _ = mv_net.l_lstm(x_batch,nnet.hidden)    \r\n",
        "    #    lstm_out.contiguous().view(x_batch.size(0),-1)\r\n",
        "        output_t = mv_model(x_batch_t) \r\n",
        "        loss = criterion(output_t.view(-1), y_batch_t)\r\n",
        "        \r\n",
        "        optimizer.zero_grad() \r\n",
        "        loss.backward()\r\n",
        "        optimizer.step()   \r\n",
        "\r\n",
        "\r\n",
        "    if t % 10 == 0 and t !=0:\r\n",
        "      print('epoch : ' , t , 'loss : ' , loss.item())\r\n"
      ],
      "execution_count": 72,
      "outputs": [
        {
          "output_type": "stream",
          "text": [
            "/usr/local/lib/python3.6/dist-packages/torch/nn/modules/loss.py:446: UserWarning: Using a target size (torch.Size([16, 1])) that is different to the input size (torch.Size([16])). This will likely lead to incorrect results due to broadcasting. Please ensure they have the same size.\n",
            "  return F.mse_loss(input, target, reduction=self.reduction)\n",
            "/usr/local/lib/python3.6/dist-packages/torch/nn/modules/loss.py:446: UserWarning: Using a target size (torch.Size([3, 1])) that is different to the input size (torch.Size([3])). This will likely lead to incorrect results due to broadcasting. Please ensure they have the same size.\n",
            "  return F.mse_loss(input, target, reduction=self.reduction)\n"
          ],
          "name": "stderr"
        },
        {
          "output_type": "stream",
          "text": [
            "epoch :  10 loss :  0.0005161606823094189\n",
            "epoch :  20 loss :  0.00045598490396514535\n",
            "epoch :  30 loss :  0.0004289547214284539\n",
            "epoch :  40 loss :  0.00042912515345960855\n",
            "epoch :  50 loss :  0.00043777222163043916\n",
            "epoch :  60 loss :  0.00044951107702217996\n",
            "epoch :  70 loss :  0.0004624048597179353\n",
            "epoch :  80 loss :  0.0004757371498271823\n",
            "epoch :  90 loss :  0.0004892226424999535\n"
          ],
          "name": "stdout"
        }
      ]
    },
    {
      "cell_type": "code",
      "metadata": {
        "colab": {
          "base_uri": "https://localhost:8080/",
          "height": 283
        },
        "id": "2bVTQF0pCukF",
        "outputId": "d0b7aff6-e69f-4407-f44a-2dbda9275b4d"
      },
      "source": [
        "plt.figure()\r\n",
        "plt.plot(hist, label=\"Training Loss\")\r\n",
        "plt.legend\r\n",
        "plt.show"
      ],
      "execution_count": 71,
      "outputs": [
        {
          "output_type": "execute_result",
          "data": {
            "text/plain": [
              "<function matplotlib.pyplot.show>"
            ]
          },
          "metadata": {
            "tags": []
          },
          "execution_count": 71
        },
        {
          "output_type": "display_data",
          "data": {
            "image/png": "[encoded data removed]",
            "text/plain": [
              "<Figure size 432x288 with 1 Axes>"
            ]
          },
          "metadata": {
            "tags": [],
            "needs_background": "light"
          }
        }
      ]
    }
  ]
}