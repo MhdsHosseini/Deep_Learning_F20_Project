{
 "cells": [
  {
   "cell_type": "markdown",
   "metadata": {
    "id": "WDNzfaTvQXmp"
   },
   "source": [
    "library"
   ]
  },
  {
   "cell_type": "code",
   "execution_count": null,
   "metadata": {
    "colab": {
     "base_uri": "https://localhost:8080/"
    },
    "id": "UMv3LclMN35u",
    "outputId": "5411ecd3-5531-4ed9-805c-84c59cdd11f2"
   },
   "outputs": [
    {
     "name": "stdout",
     "output_type": "stream",
     "text": [
      "Drive already mounted at /content/drive; to attempt to forcibly remount, call drive.mount(\"/content/drive\", force_remount=True).\n"
     ]
    }
   ],
   "source": [
    "import numpy as np \n",
    "import random\n",
    "import pandas as pd \n",
    "import matplotlib.pyplot as plt\n",
    "from pandas import datetime\n",
    "import math, time\n",
    "import itertools\n",
    "from sklearn import preprocessing\n",
    "#from sklearn.preprocessing import MinMaxScaler\n",
    "import datetime\n",
    "from operator import itemgetter\n",
    "from sklearn.metrics import mean_squared_error\n",
    "from math import sqrt\n",
    "import torch\n",
    "import torch.nn as nn\n",
    "from torch.autograd import Variable\n",
    "from sklearn.preprocessing import StandardScaler\n",
    "from google.colab import drive\n",
    "drive.mount('/content/drive')\n"
   ]
  },
  {
   "cell_type": "code",
   "execution_count": null,
   "metadata": {
    "id": "MudKVN-QLW_a"
   },
   "outputs": [],
   "source": [
    "#Device configuration\n",
    "device = torch.device('cuda' if torch.cuda.is_available() else 'cpu')"
   ]
  },
  {
   "cell_type": "markdown",
   "metadata": {
    "id": "q7LztjTLQdCl"
   },
   "source": [
    "Data"
   ]
  },
  {
   "cell_type": "code",
   "execution_count": null,
   "metadata": {
    "colab": {
     "base_uri": "https://localhost:8080/",
     "height": 415
    },
    "id": "qYloyo52Qer2",
    "outputId": "049da025-4d40-4ff9-8445-4ca4b6184dc7"
   },
   "outputs": [
    {
     "data": {
      "text/html": [
       "<div>\n",
       "<style scoped>\n",
       "    .dataframe tbody tr th:only-of-type {\n",
       "        vertical-align: middle;\n",
       "    }\n",
       "\n",
       "    .dataframe tbody tr th {\n",
       "        vertical-align: top;\n",
       "    }\n",
       "\n",
       "    .dataframe thead th {\n",
       "        text-align: right;\n",
       "    }\n",
       "</style>\n",
       "<table border=\"1\" class=\"dataframe\">\n",
       "  <thead>\n",
       "    <tr style=\"text-align: right;\">\n",
       "      <th></th>\n",
       "      <th>date</th>\n",
       "      <th>symbol</th>\n",
       "      <th>open</th>\n",
       "      <th>close</th>\n",
       "      <th>low</th>\n",
       "      <th>high</th>\n",
       "      <th>volume</th>\n",
       "    </tr>\n",
       "  </thead>\n",
       "  <tbody>\n",
       "    <tr>\n",
       "      <th>0</th>\n",
       "      <td>2016-01-05</td>\n",
       "      <td>WLTW</td>\n",
       "      <td>123.430000</td>\n",
       "      <td>125.839996</td>\n",
       "      <td>122.309998</td>\n",
       "      <td>126.250000</td>\n",
       "      <td>2163600.0</td>\n",
       "    </tr>\n",
       "    <tr>\n",
       "      <th>1</th>\n",
       "      <td>2016-01-06</td>\n",
       "      <td>WLTW</td>\n",
       "      <td>125.239998</td>\n",
       "      <td>119.980003</td>\n",
       "      <td>119.940002</td>\n",
       "      <td>125.540001</td>\n",
       "      <td>2386400.0</td>\n",
       "    </tr>\n",
       "    <tr>\n",
       "      <th>2</th>\n",
       "      <td>2016-01-07</td>\n",
       "      <td>WLTW</td>\n",
       "      <td>116.379997</td>\n",
       "      <td>114.949997</td>\n",
       "      <td>114.930000</td>\n",
       "      <td>119.739998</td>\n",
       "      <td>2489500.0</td>\n",
       "    </tr>\n",
       "    <tr>\n",
       "      <th>3</th>\n",
       "      <td>2016-01-08</td>\n",
       "      <td>WLTW</td>\n",
       "      <td>115.480003</td>\n",
       "      <td>116.620003</td>\n",
       "      <td>113.500000</td>\n",
       "      <td>117.440002</td>\n",
       "      <td>2006300.0</td>\n",
       "    </tr>\n",
       "    <tr>\n",
       "      <th>4</th>\n",
       "      <td>2016-01-11</td>\n",
       "      <td>WLTW</td>\n",
       "      <td>117.010002</td>\n",
       "      <td>114.970001</td>\n",
       "      <td>114.089996</td>\n",
       "      <td>117.330002</td>\n",
       "      <td>1408600.0</td>\n",
       "    </tr>\n",
       "    <tr>\n",
       "      <th>...</th>\n",
       "      <td>...</td>\n",
       "      <td>...</td>\n",
       "      <td>...</td>\n",
       "      <td>...</td>\n",
       "      <td>...</td>\n",
       "      <td>...</td>\n",
       "      <td>...</td>\n",
       "    </tr>\n",
       "    <tr>\n",
       "      <th>851259</th>\n",
       "      <td>2016-12-30</td>\n",
       "      <td>ZBH</td>\n",
       "      <td>103.309998</td>\n",
       "      <td>103.199997</td>\n",
       "      <td>102.849998</td>\n",
       "      <td>103.930000</td>\n",
       "      <td>973800.0</td>\n",
       "    </tr>\n",
       "    <tr>\n",
       "      <th>851260</th>\n",
       "      <td>2016-12-30</td>\n",
       "      <td>ZION</td>\n",
       "      <td>43.070000</td>\n",
       "      <td>43.040001</td>\n",
       "      <td>42.689999</td>\n",
       "      <td>43.310001</td>\n",
       "      <td>1938100.0</td>\n",
       "    </tr>\n",
       "    <tr>\n",
       "      <th>851261</th>\n",
       "      <td>2016-12-30</td>\n",
       "      <td>ZTS</td>\n",
       "      <td>53.639999</td>\n",
       "      <td>53.529999</td>\n",
       "      <td>53.270000</td>\n",
       "      <td>53.740002</td>\n",
       "      <td>1701200.0</td>\n",
       "    </tr>\n",
       "    <tr>\n",
       "      <th>851262</th>\n",
       "      <td>2016-12-30</td>\n",
       "      <td>AIV</td>\n",
       "      <td>44.730000</td>\n",
       "      <td>45.450001</td>\n",
       "      <td>44.410000</td>\n",
       "      <td>45.590000</td>\n",
       "      <td>1380900.0</td>\n",
       "    </tr>\n",
       "    <tr>\n",
       "      <th>851263</th>\n",
       "      <td>2016-12-30</td>\n",
       "      <td>FTV</td>\n",
       "      <td>54.200001</td>\n",
       "      <td>53.630001</td>\n",
       "      <td>53.389999</td>\n",
       "      <td>54.480000</td>\n",
       "      <td>705100.0</td>\n",
       "    </tr>\n",
       "  </tbody>\n",
       "</table>\n",
       "<p>851264 rows × 7 columns</p>\n",
       "</div>"
      ],
      "text/plain": [
       "              date symbol        open  ...         low        high     volume\n",
       "0       2016-01-05   WLTW  123.430000  ...  122.309998  126.250000  2163600.0\n",
       "1       2016-01-06   WLTW  125.239998  ...  119.940002  125.540001  2386400.0\n",
       "2       2016-01-07   WLTW  116.379997  ...  114.930000  119.739998  2489500.0\n",
       "3       2016-01-08   WLTW  115.480003  ...  113.500000  117.440002  2006300.0\n",
       "4       2016-01-11   WLTW  117.010002  ...  114.089996  117.330002  1408600.0\n",
       "...            ...    ...         ...  ...         ...         ...        ...\n",
       "851259  2016-12-30    ZBH  103.309998  ...  102.849998  103.930000   973800.0\n",
       "851260  2016-12-30   ZION   43.070000  ...   42.689999   43.310001  1938100.0\n",
       "851261  2016-12-30    ZTS   53.639999  ...   53.270000   53.740002  1701200.0\n",
       "851262  2016-12-30    AIV   44.730000  ...   44.410000   45.590000  1380900.0\n",
       "851263  2016-12-30    FTV   54.200001  ...   53.389999   54.480000   705100.0\n",
       "\n",
       "[851264 rows x 7 columns]"
      ]
     },
     "execution_count": 4,
     "metadata": {
      "tags": []
     },
     "output_type": "execute_result"
    }
   ],
   "source": [
    "df = pd.read_csv(\"/content/drive/MyDrive/Colab Notebooks/Price.csv\")\n",
    "df"
   ]
  },
  {
   "cell_type": "code",
   "execution_count": null,
   "metadata": {
    "colab": {
     "base_uri": "https://localhost:8080/"
    },
    "id": "dKbhcYzKGbo9",
    "outputId": "f2705c76-fe71-4a15-96b4-8fd4c863b23e"
   },
   "outputs": [
    {
     "name": "stdout",
     "output_type": "stream",
     "text": [
      "<class 'pandas.core.frame.DataFrame'>\n",
      "RangeIndex: 851264 entries, 0 to 851263\n",
      "Data columns (total 7 columns):\n",
      " #   Column  Non-Null Count   Dtype  \n",
      "---  ------  --------------   -----  \n",
      " 0   date    851264 non-null  object \n",
      " 1   symbol  851264 non-null  object \n",
      " 2   open    851264 non-null  float64\n",
      " 3   close   851264 non-null  float64\n",
      " 4   low     851264 non-null  float64\n",
      " 5   high    851264 non-null  float64\n",
      " 6   volume  851264 non-null  float64\n",
      "dtypes: float64(5), object(2)\n",
      "memory usage: 45.5+ MB\n"
     ]
    }
   ],
   "source": [
    "df.info()"
   ]
  },
  {
   "cell_type": "markdown",
   "metadata": {
    "id": "BfJ2TX3YQrLG"
   },
   "source": [
    "PreProcess"
   ]
  },
  {
   "cell_type": "code",
   "execution_count": null,
   "metadata": {
    "colab": {
     "base_uri": "https://localhost:8080/"
    },
    "id": "cW04A622QxyO",
    "outputId": "3ed8d49e-afb7-4868-961c-8d997764fa8a"
   },
   "outputs": [
    {
     "name": "stdout",
     "output_type": "stream",
     "text": [
      "              date symbol       open  ...        low       high      volume\n",
      "713     2010-01-04   YHOO  16.940001  ...  16.879999  17.200001  16587400.0\n",
      "1181    2010-01-05   YHOO  17.219999  ...  17.000000  17.230000  11718100.0\n",
      "1649    2010-01-06   YHOO  17.170000  ...  17.070000  17.299999  16422000.0\n",
      "2117    2010-01-07   YHOO  16.809999  ...  16.570000  16.900000  31816300.0\n",
      "2585    2010-01-08   YHOO  16.680000  ...  16.620001  16.760000  15470000.0\n",
      "...            ...    ...        ...  ...        ...        ...         ...\n",
      "849257  2016-12-23   YHOO  38.459999  ...  38.369999  38.810001   3840100.0\n",
      "849757  2016-12-27   YHOO  38.590000  ...  38.500000  39.070000   4240300.0\n",
      "850257  2016-12-28   YHOO  39.119999  ...  38.709999  39.220001   4393500.0\n",
      "850757  2016-12-29   YHOO  38.759998  ...  38.480000  38.930000   4170200.0\n",
      "851257  2016-12-30   YHOO  38.720001  ...  38.430000  39.000000   6431600.0\n",
      "\n",
      "[1762 rows x 7 columns]\n"
     ]
    }
   ],
   "source": [
    "stock_df = df[df.symbol == 'YHOO'] #choose one stock\n",
    "print(stock_df)"
   ]
  },
  {
   "cell_type": "code",
   "execution_count": null,
   "metadata": {
    "colab": {
     "base_uri": "https://localhost:8080/",
     "height": 202
    },
    "id": "I9x7w7MvOPNH",
    "outputId": "d49abc0c-7f08-4a91-ae48-cb21b9cce099"
   },
   "outputs": [
    {
     "data": {
      "text/html": [
       "<div>\n",
       "<style scoped>\n",
       "    .dataframe tbody tr th:only-of-type {\n",
       "        vertical-align: middle;\n",
       "    }\n",
       "\n",
       "    .dataframe tbody tr th {\n",
       "        vertical-align: top;\n",
       "    }\n",
       "\n",
       "    .dataframe thead th {\n",
       "        text-align: right;\n",
       "    }\n",
       "</style>\n",
       "<table border=\"1\" class=\"dataframe\">\n",
       "  <thead>\n",
       "    <tr style=\"text-align: right;\">\n",
       "      <th></th>\n",
       "      <th>date</th>\n",
       "      <th>symbol</th>\n",
       "      <th>open</th>\n",
       "      <th>close</th>\n",
       "      <th>low</th>\n",
       "      <th>high</th>\n",
       "      <th>volume</th>\n",
       "    </tr>\n",
       "  </thead>\n",
       "  <tbody>\n",
       "    <tr>\n",
       "      <th>849257</th>\n",
       "      <td>2016-12-23</td>\n",
       "      <td>YHOO</td>\n",
       "      <td>38.459999</td>\n",
       "      <td>38.660000</td>\n",
       "      <td>38.369999</td>\n",
       "      <td>38.810001</td>\n",
       "      <td>3840100.0</td>\n",
       "    </tr>\n",
       "    <tr>\n",
       "      <th>849757</th>\n",
       "      <td>2016-12-27</td>\n",
       "      <td>YHOO</td>\n",
       "      <td>38.590000</td>\n",
       "      <td>38.919998</td>\n",
       "      <td>38.500000</td>\n",
       "      <td>39.070000</td>\n",
       "      <td>4240300.0</td>\n",
       "    </tr>\n",
       "    <tr>\n",
       "      <th>850257</th>\n",
       "      <td>2016-12-28</td>\n",
       "      <td>YHOO</td>\n",
       "      <td>39.119999</td>\n",
       "      <td>38.730000</td>\n",
       "      <td>38.709999</td>\n",
       "      <td>39.220001</td>\n",
       "      <td>4393500.0</td>\n",
       "    </tr>\n",
       "    <tr>\n",
       "      <th>850757</th>\n",
       "      <td>2016-12-29</td>\n",
       "      <td>YHOO</td>\n",
       "      <td>38.759998</td>\n",
       "      <td>38.639999</td>\n",
       "      <td>38.480000</td>\n",
       "      <td>38.930000</td>\n",
       "      <td>4170200.0</td>\n",
       "    </tr>\n",
       "    <tr>\n",
       "      <th>851257</th>\n",
       "      <td>2016-12-30</td>\n",
       "      <td>YHOO</td>\n",
       "      <td>38.720001</td>\n",
       "      <td>38.669998</td>\n",
       "      <td>38.430000</td>\n",
       "      <td>39.000000</td>\n",
       "      <td>6431600.0</td>\n",
       "    </tr>\n",
       "  </tbody>\n",
       "</table>\n",
       "</div>"
      ],
      "text/plain": [
       "              date symbol       open  ...        low       high     volume\n",
       "849257  2016-12-23   YHOO  38.459999  ...  38.369999  38.810001  3840100.0\n",
       "849757  2016-12-27   YHOO  38.590000  ...  38.500000  39.070000  4240300.0\n",
       "850257  2016-12-28   YHOO  39.119999  ...  38.709999  39.220001  4393500.0\n",
       "850757  2016-12-29   YHOO  38.759998  ...  38.480000  38.930000  4170200.0\n",
       "851257  2016-12-30   YHOO  38.720001  ...  38.430000  39.000000  6431600.0\n",
       "\n",
       "[5 rows x 7 columns]"
      ]
     },
     "execution_count": 8,
     "metadata": {
      "tags": []
     },
     "output_type": "execute_result"
    }
   ],
   "source": [
    "stock_df.tail()"
   ]
  },
  {
   "cell_type": "code",
   "execution_count": null,
   "metadata": {
    "colab": {
     "base_uri": "https://localhost:8080/"
    },
    "id": "Fe_GjX3XObAA",
    "outputId": "9b03ba7b-0d01-4462-8360-f3d28710b6dc"
   },
   "outputs": [
    {
     "name": "stdout",
     "output_type": "stream",
     "text": [
      "0        2016-01-05\n",
      "1        2016-01-06\n",
      "2        2016-01-07\n",
      "3        2016-01-08\n",
      "4        2016-01-11\n",
      "            ...    \n",
      "851259   2016-12-30\n",
      "851260   2016-12-30\n",
      "851261   2016-12-30\n",
      "851262   2016-12-30\n",
      "851263   2016-12-30\n",
      "Name: date, Length: 851264, dtype: datetime64[ns]\n"
     ]
    }
   ],
   "source": [
    "stock_df_dates = pd.to_datetime(df['date'])\n",
    "print(stock_df_dates)\n"
   ]
  },
  {
   "cell_type": "code",
   "execution_count": null,
   "metadata": {
    "colab": {
     "base_uri": "https://localhost:8080/"
    },
    "id": "W4Y5_lWPgSOO",
    "outputId": "d02ff25b-0313-46ed-fcec-e87e98dd6340"
   },
   "outputs": [
    {
     "name": "stdout",
     "output_type": "stream",
     "text": [
      "['open', 'close', 'low', 'high', 'volume']\n",
      "             open      close        low       high      volume\n",
      "713     16.940001  17.100000  16.879999  17.200001  16587400.0\n",
      "1181    17.219999  17.230000  17.000000  17.230000  11718100.0\n",
      "1649    17.170000  17.170000  17.070000  17.299999  16422000.0\n",
      "2117    16.809999  16.700001  16.570000  16.900000  31816300.0\n",
      "2585    16.680000  16.700001  16.620001  16.760000  15470000.0\n",
      "...           ...        ...        ...        ...         ...\n",
      "849257  38.459999  38.660000  38.369999  38.810001   3840100.0\n",
      "849757  38.590000  38.919998  38.500000  39.070000   4240300.0\n",
      "850257  39.119999  38.730000  38.709999  39.220001   4393500.0\n",
      "850757  38.759998  38.639999  38.480000  38.930000   4170200.0\n",
      "851257  38.720001  38.669998  38.430000  39.000000   6431600.0\n",
      "\n",
      "[1762 rows x 5 columns]\n"
     ]
    }
   ],
   "source": [
    "cols = list(stock_df)[2:7]\n",
    "print(cols)\n",
    "df_training = stock_df[cols].astype(float)\n",
    "print(df_training)"
   ]
  },
  {
   "cell_type": "code",
   "execution_count": null,
   "metadata": {
    "colab": {
     "base_uri": "https://localhost:8080/"
    },
    "id": "apagLFZ5h5aE",
    "outputId": "59afeba4-a9b9-4b19-a25e-5d05c90708a5"
   },
   "outputs": [
    {
     "data": {
      "text/plain": [
       "array([[-0.9078427 , -0.89375147, -0.89448224, -0.90342189, -0.24567839],\n",
       "       [-0.88330165, -0.88235157, -0.88385001, -0.90081845, -0.59943356],\n",
       "       [-0.88768392, -0.88761306, -0.87764793, -0.89474364, -0.25769472],\n",
       "       ...,\n",
       "       [ 1.03617278,  1.00301653,  1.03968139,  1.00756709, -1.13156654],\n",
       "       [ 1.00461969,  0.9951242 ,  1.01930321,  0.98239957, -1.14778931],\n",
       "       [ 1.00111406,  0.99775486,  1.01487315,  0.98847447, -0.98349836]])"
      ]
     },
     "execution_count": 20,
     "metadata": {
      "tags": []
     },
     "output_type": "execute_result"
    }
   ],
   "source": [
    "scaler = StandardScaler()\n",
    "scaler = scaler.fit(df_training)\n",
    "df_training_scaled = scaler.transform(df_training)\n",
    "\n",
    "df_training_scaled"
   ]
  },
  {
   "cell_type": "code",
   "execution_count": null,
   "metadata": {
    "id": "wjnNh3WRtFdH"
   },
   "outputs": [],
   "source": [
    "#splitting\n",
    "train_size = int(len(df_training_scaled)*.8)\n",
    "test_size = len(df_training_scaled)-train_size\n",
    "train_data = df_training_scaled[0:train_size,:]\n",
    "test_data = df_training_scaled[train_size:len(df_training_scaled),:] \n"
   ]
  },
  {
   "cell_type": "code",
   "execution_count": null,
   "metadata": {
    "colab": {
     "base_uri": "https://localhost:8080/"
    },
    "id": "nripmIkhRggX",
    "outputId": "e0ff022c-22b9-4203-a6c1-a6bbb7b0c58c"
   },
   "outputs": [
    {
     "name": "stdout",
     "output_type": "stream",
     "text": [
      "trainX shape == (1395, 14, 5).\n",
      "trainY shape == (1395, 1).\n",
      "testX shape == (339, 14, 5).\n",
      "testY shape == (339, 1).\n"
     ]
    }
   ],
   "source": [
    "#data for lstm\n",
    "n_future = 1\n",
    "n_past = 14\n",
    "\n",
    "trainx = []\n",
    "trainy = []\n",
    "\n",
    "for i in range(n_past, len(train_data) - n_future +1):\n",
    "   trainx.append(train_data[i - n_past:i, 0:train_data.shape[1]])\n",
    "   trainy.append(train_data[i + n_future-1:i + n_future, 0])\n",
    "  \n",
    "trainX , trainY = np.array(trainx) , np.array(trainy)\n",
    "\n",
    "testx = []\n",
    "testy = []\n",
    "\n",
    "for i in range(n_past, len(test_data) - n_future +1):\n",
    "   testx.append(test_data[i - n_past:i, 0:train_data.shape[1]])\n",
    "   testy.append(test_data[i + n_future-1:i + n_future, 0])\n",
    "  \n",
    "testX , testY = np.array(testx) , np.array(testy)\n",
    "\n",
    "print(\"trainX shape == {}.\".format(trainX.shape))\n",
    "print(\"trainY shape == {}.\".format(trainY.shape))\n",
    "print(\"testX shape == {}.\".format(testX.shape))\n",
    "print(\"testY shape == {}.\".format(testY.shape))\n"
   ]
  },
  {
   "cell_type": "markdown",
   "metadata": {
    "id": "F2RJHghhBC1m"
   },
   "source": [
    "Model"
   ]
  },
  {
   "cell_type": "code",
   "execution_count": 161,
   "metadata": {
    "id": "oouIYNf6LPSF"
   },
   "outputs": [],
   "source": [
    "# Hyper-parameters \n",
    "input_size = 5\n",
    "sequence_length = 14\n",
    "hidden_size = 20\n",
    "num_classes = 2\n",
    "num_epochs = 10\n",
    "batch_size = 16\n",
    "learning_rate = 0.001\n",
    "num_layers = 1\n",
    "num_timesteps = 14"
   ]
  },
  {
   "cell_type": "code",
   "execution_count": null,
   "metadata": {
    "id": "YCQT6aKBwRaA"
   },
   "outputs": [],
   "source": [
    "# LSTM\n",
    "#Building the Model\n",
    "class MV_LSTM(nn.Module):\n",
    "    def __init__(self, input_size, hidden_size):\n",
    "        super(MV_LSTM, self).__init__()\n",
    "        self.input_size = input_size\n",
    "        self.num_layers = num_layers \n",
    "        self.hidden_size = hidden_size\n",
    "        self.sequence_length = sequence_length\n",
    "        self.lstm = nn.LSTM(input_size, hidden_size, num_layers, batch_first=True) \n",
    "        #(batch, seq, input)\n",
    "        self.dropout = nn.Dropout(0.2)\n",
    "        self.fc = nn.Linear(hidden_size*sequence_length, 1)\n",
    "\n",
    "    def init_hidden(self, batch_size):\n",
    "        h0 = torch.zeros(self.num_layers, batch_size, self.hidden_size)\n",
    "        c0 = torch.zeros(self.num_layers, batch_size, self.hidden_size) \n",
    "        self.hidden = (h0,c0)\n",
    "   \n",
    "    def forward(self, x):\n",
    "        batch_size, sequence_length, _ = x.size()\n",
    "        lstm_out, self.hidden = self.lstm(x, self.hidden)\n",
    "        x = lstm_out.contiguous().view(batch_size, -1)\n",
    "        out = self.fc(x)\n",
    "        return out\n",
    "\n",
    "#model = LSTM(input_size, hidden_size, num_layers, num_classes).to(device)"
   ]
  },
  {
   "cell_type": "code",
   "execution_count": null,
   "metadata": {
    "colab": {
     "base_uri": "https://localhost:8080/"
    },
    "id": "GQA1qFKKG7JR",
    "outputId": "48b5dadd-68a3-4b31-e1d0-ca60983b7e16"
   },
   "outputs": [
    {
     "name": "stdout",
     "output_type": "stream",
     "text": [
      "MV_LSTM(\n",
      "  (lstm): LSTM(5, 14, batch_first=True)\n",
      "  (dropout): Dropout(p=0.2, inplace=False)\n",
      "  (fc): Linear(in_features=196, out_features=1, bias=True)\n",
      ")\n"
     ]
    }
   ],
   "source": [
    "#create\n",
    "mv_model = MV_LSTM(input_size,num_timesteps)\n",
    "criterion = nn.MSELoss()\n",
    "optimizer = torch.optim.Adam(mv_model.parameters(), lr=learning_rate)  \n",
    "print(mv_model)"
   ]
  },
  {
   "cell_type": "code",
   "execution_count": 162,
   "metadata": {
    "colab": {
     "base_uri": "https://localhost:8080/"
    },
    "id": "RmxiCm0lDltA",
    "outputId": "e00ddeaa-f3a5-4f01-9b58-52be64203b89"
   },
   "outputs": [
    {
     "name": "stderr",
     "output_type": "stream",
     "text": [
      "/usr/local/lib/python3.6/dist-packages/torch/nn/modules/loss.py:446: UserWarning: Using a target size (torch.Size([16, 1])) that is different to the input size (torch.Size([16])). This will likely lead to incorrect results due to broadcasting. Please ensure they have the same size.\n",
      "  return F.mse_loss(input, target, reduction=self.reduction)\n",
      "/usr/local/lib/python3.6/dist-packages/torch/nn/modules/loss.py:446: UserWarning: Using a target size (torch.Size([3, 1])) that is different to the input size (torch.Size([3])). This will likely lead to incorrect results due to broadcasting. Please ensure they have the same size.\n",
      "  return F.mse_loss(input, target, reduction=self.reduction)\n"
     ]
    },
    {
     "name": "stdout",
     "output_type": "stream",
     "text": [
      "epoch :  10 loss :  0.0014428147114813328\n",
      "epoch :  20 loss :  0.0013486738316714764\n",
      "epoch :  30 loss :  0.0013928315602242947\n",
      "epoch :  40 loss :  0.001444479450583458\n",
      "epoch :  50 loss :  0.0015163564821705222\n",
      "epoch :  60 loss :  0.0014953078934922814\n",
      "epoch :  70 loss :  0.0014026120770722628\n",
      "epoch :  80 loss :  0.0013727897312492132\n",
      "epoch :  90 loss :  0.0016873758286237717\n"
     ]
    }
   ],
   "source": [
    "#Training\n",
    "train_episodes = 100\n",
    "mv_model.train()\n",
    "for t in range(train_episodes):\n",
    "    for b in range(0,len(trainX),batch_size):\n",
    "        inpt = trainX[b:b+batch_size,:,:]\n",
    "        target =trainY[b:b+batch_size]    \n",
    "        \n",
    "        x_batch = torch.tensor(inpt,dtype=torch.float32)    \n",
    "        y_batch = torch.tensor(target,dtype=torch.float32)\n",
    "       \n",
    "    \n",
    "        mv_model.init_hidden(x_batch.size(0))\n",
    "    #    lstm_out, _ = mv_net.l_lstm(x_batch,nnet.hidden)    \n",
    "    #    lstm_out.contiguous().view(x_batch.size(0),-1)\n",
    "        output = mv_model(x_batch) \n",
    "        loss = criterion(output.view(-1), y_batch)\n",
    "        optimizer.zero_grad() \n",
    "        loss.backward()\n",
    "        optimizer.step()   \n",
    "\n",
    "\n",
    "    if t % 10 == 0 and t !=0:\n",
    "      print('epoch : ' , t , 'loss : ' , loss.item())\n"
   ]
  },
  {
   "cell_type": "code",
   "execution_count": 177,
   "metadata": {
    "colab": {
     "base_uri": "https://localhost:8080/"
    },
    "id": "Wd_tbfmYaq_m",
    "outputId": "a58a6dc0-96b3-4506-884c-83c9f1fadea5"
   },
   "outputs": [
    {
     "data": {
      "text/plain": [
       "tensor([[0.8784],\n",
       "        [0.8802],\n",
       "        [0.8083]])"
      ]
     },
     "execution_count": 177,
     "metadata": {
      "tags": []
     },
     "output_type": "execute_result"
    }
   ],
   "source": [
    " y_batch"
   ]
  },
  {
   "cell_type": "code",
   "execution_count": 176,
   "metadata": {
    "colab": {
     "base_uri": "https://localhost:8080/"
    },
    "id": "ceUlZYlDFViv",
    "outputId": "65dda32c-3ccc-4a51-b5ea-e38c9337c938"
   },
   "outputs": [
    {
     "name": "stderr",
     "output_type": "stream",
     "text": [
      "/usr/local/lib/python3.6/dist-packages/torch/nn/modules/loss.py:446: UserWarning: Using a target size (torch.Size([3, 1])) that is different to the input size (torch.Size([3])). This will likely lead to incorrect results due to broadcasting. Please ensure they have the same size.\n",
      "  return F.mse_loss(input, target, reduction=self.reduction)\n"
     ]
    },
    {
     "name": "stdout",
     "output_type": "stream",
     "text": [
      "epoch :  10 loss :  0.001446894253604114\n",
      "epoch :  20 loss :  0.001446894253604114\n",
      "epoch :  30 loss :  0.001446894253604114\n",
      "epoch :  40 loss :  0.001446894253604114\n",
      "epoch :  50 loss :  0.001446894253604114\n",
      "epoch :  60 loss :  0.001446894253604114\n",
      "epoch :  70 loss :  0.001446894253604114\n",
      "epoch :  80 loss :  0.001446894253604114\n",
      "epoch :  90 loss :  0.001446894253604114\n"
     ]
    }
   ],
   "source": [
    "#test model\n",
    "n_correct = 0\n",
    "n_samples = 0\n",
    "test_episodes = 100\n",
    "with torch.no_grad():\n",
    "  for t in range(test_episodes):\n",
    "    for b in range(0,len(testX),batch_size):\n",
    "        inpt_t = testX[b:b+batch_size,:,:]\n",
    "        target_t =testY[b:b+batch_size]    \n",
    "        mv_model.eval()\n",
    "        x_batch_t = torch.tensor(inpt,dtype=torch.float32)    \n",
    "        y_batch_t = torch.tensor(target,dtype=torch.float32)\n",
    "        output = mv_model(x_batch_t)\n",
    "        loss = criterion(output.view(-1), y_batch_t) \n",
    "    if t % 10 == 0 and t !=0:\n",
    "      print('epoch : ' , t , 'loss : ' , loss.item())\n",
    "\n",
    "\n",
    "\n",
    "\n",
    "#acc = 100.0 * n_correct / n_samples\n",
    "#print('Accuracy : {acc} %')\n",
    "#print(predicted) \n"
   ]
  },
  {
   "cell_type": "code",
   "execution_count": 172,
   "metadata": {
    "colab": {
     "base_uri": "https://localhost:8080/"
    },
    "id": "f8_PMI_y5AYB",
    "outputId": "630f321b-ed16-4bee-b2bd-39506d1255dd"
   },
   "outputs": [
    {
     "data": {
      "text/plain": [
       "tensor([0.8821, 0.8687, 0.8453])"
      ]
     },
     "execution_count": 172,
     "metadata": {
      "tags": []
     },
     "output_type": "execute_result"
    }
   ],
   "source": [
    "output.view(-1)"
   ]
  }
 ],
 "metadata": {
  "colab": {
   "collapsed_sections": [],
   "name": "Stock Market Prediction .ipynb",
   "provenance": []
  },
  "kernelspec": {
   "display_name": "Python 3",
   "language": "python",
   "name": "python3"
  },
  "language_info": {
   "codemirror_mode": {
    "name": "ipython",
    "version": 3
   },
   "file_extension": ".py",
   "mimetype": "text/x-python",
   "name": "python",
   "nbconvert_exporter": "python",
   "pygments_lexer": "ipython3",
   "version": "3.7.9"
  }
 },
 "nbformat": 4,
 "nbformat_minor": 1
}
