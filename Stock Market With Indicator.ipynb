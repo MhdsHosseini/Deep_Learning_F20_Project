{
 "cells": [
  {
   "cell_type": "code",
   "execution_count": 86,
   "metadata": {},
   "outputs": [
    {
     "name": "stderr",
     "output_type": "stream",
     "text": [
      "C:\\Users\\Mahdis\\Anaconda3\\envs\\Deep_Learning_Class\\lib\\site-packages\\ipykernel_launcher.py:2: FutureWarning: The pandas.datetime class is deprecated and will be removed from pandas in a future version. Import from datetime module instead.\n",
      "  \n"
     ]
    }
   ],
   "source": [
    "import pandas as pd\n",
    "from pandas import datetime\n",
    "import numpy as np\n",
    "import stockstats as st\n",
    "import matplotlib.pyplot as plt\n",
    "from sklearn.preprocessing import StandardScaler\n",
    "import torch\n",
    "import torch.nn as nn\n",
    "from torch.autograd import Variable"
   ]
  },
  {
   "cell_type": "code",
   "execution_count": 3,
   "metadata": {},
   "outputs": [
    {
     "data": {
      "text/html": [
       "<div>\n",
       "<style scoped>\n",
       "    .dataframe tbody tr th:only-of-type {\n",
       "        vertical-align: middle;\n",
       "    }\n",
       "\n",
       "    .dataframe tbody tr th {\n",
       "        vertical-align: top;\n",
       "    }\n",
       "\n",
       "    .dataframe thead th {\n",
       "        text-align: right;\n",
       "    }\n",
       "</style>\n",
       "<table border=\"1\" class=\"dataframe\">\n",
       "  <thead>\n",
       "    <tr style=\"text-align: right;\">\n",
       "      <th></th>\n",
       "      <th>date</th>\n",
       "      <th>symbol</th>\n",
       "      <th>open</th>\n",
       "      <th>close</th>\n",
       "      <th>low</th>\n",
       "      <th>high</th>\n",
       "      <th>volume</th>\n",
       "    </tr>\n",
       "  </thead>\n",
       "  <tbody>\n",
       "    <tr>\n",
       "      <th>0</th>\n",
       "      <td>2016-01-05</td>\n",
       "      <td>WLTW</td>\n",
       "      <td>123.430000</td>\n",
       "      <td>125.839996</td>\n",
       "      <td>122.309998</td>\n",
       "      <td>126.250000</td>\n",
       "      <td>2163600.0</td>\n",
       "    </tr>\n",
       "    <tr>\n",
       "      <th>1</th>\n",
       "      <td>2016-01-06</td>\n",
       "      <td>WLTW</td>\n",
       "      <td>125.239998</td>\n",
       "      <td>119.980003</td>\n",
       "      <td>119.940002</td>\n",
       "      <td>125.540001</td>\n",
       "      <td>2386400.0</td>\n",
       "    </tr>\n",
       "    <tr>\n",
       "      <th>2</th>\n",
       "      <td>2016-01-07</td>\n",
       "      <td>WLTW</td>\n",
       "      <td>116.379997</td>\n",
       "      <td>114.949997</td>\n",
       "      <td>114.930000</td>\n",
       "      <td>119.739998</td>\n",
       "      <td>2489500.0</td>\n",
       "    </tr>\n",
       "    <tr>\n",
       "      <th>3</th>\n",
       "      <td>2016-01-08</td>\n",
       "      <td>WLTW</td>\n",
       "      <td>115.480003</td>\n",
       "      <td>116.620003</td>\n",
       "      <td>113.500000</td>\n",
       "      <td>117.440002</td>\n",
       "      <td>2006300.0</td>\n",
       "    </tr>\n",
       "    <tr>\n",
       "      <th>4</th>\n",
       "      <td>2016-01-11</td>\n",
       "      <td>WLTW</td>\n",
       "      <td>117.010002</td>\n",
       "      <td>114.970001</td>\n",
       "      <td>114.089996</td>\n",
       "      <td>117.330002</td>\n",
       "      <td>1408600.0</td>\n",
       "    </tr>\n",
       "    <tr>\n",
       "      <th>...</th>\n",
       "      <td>...</td>\n",
       "      <td>...</td>\n",
       "      <td>...</td>\n",
       "      <td>...</td>\n",
       "      <td>...</td>\n",
       "      <td>...</td>\n",
       "      <td>...</td>\n",
       "    </tr>\n",
       "    <tr>\n",
       "      <th>851259</th>\n",
       "      <td>2016-12-30</td>\n",
       "      <td>ZBH</td>\n",
       "      <td>103.309998</td>\n",
       "      <td>103.199997</td>\n",
       "      <td>102.849998</td>\n",
       "      <td>103.930000</td>\n",
       "      <td>973800.0</td>\n",
       "    </tr>\n",
       "    <tr>\n",
       "      <th>851260</th>\n",
       "      <td>2016-12-30</td>\n",
       "      <td>ZION</td>\n",
       "      <td>43.070000</td>\n",
       "      <td>43.040001</td>\n",
       "      <td>42.689999</td>\n",
       "      <td>43.310001</td>\n",
       "      <td>1938100.0</td>\n",
       "    </tr>\n",
       "    <tr>\n",
       "      <th>851261</th>\n",
       "      <td>2016-12-30</td>\n",
       "      <td>ZTS</td>\n",
       "      <td>53.639999</td>\n",
       "      <td>53.529999</td>\n",
       "      <td>53.270000</td>\n",
       "      <td>53.740002</td>\n",
       "      <td>1701200.0</td>\n",
       "    </tr>\n",
       "    <tr>\n",
       "      <th>851262</th>\n",
       "      <td>2016-12-30</td>\n",
       "      <td>AIV</td>\n",
       "      <td>44.730000</td>\n",
       "      <td>45.450001</td>\n",
       "      <td>44.410000</td>\n",
       "      <td>45.590000</td>\n",
       "      <td>1380900.0</td>\n",
       "    </tr>\n",
       "    <tr>\n",
       "      <th>851263</th>\n",
       "      <td>2016-12-30</td>\n",
       "      <td>FTV</td>\n",
       "      <td>54.200001</td>\n",
       "      <td>53.630001</td>\n",
       "      <td>53.389999</td>\n",
       "      <td>54.480000</td>\n",
       "      <td>705100.0</td>\n",
       "    </tr>\n",
       "  </tbody>\n",
       "</table>\n",
       "<p>851264 rows × 7 columns</p>\n",
       "</div>"
      ],
      "text/plain": [
       "              date symbol        open       close         low        high  \\\n",
       "0       2016-01-05   WLTW  123.430000  125.839996  122.309998  126.250000   \n",
       "1       2016-01-06   WLTW  125.239998  119.980003  119.940002  125.540001   \n",
       "2       2016-01-07   WLTW  116.379997  114.949997  114.930000  119.739998   \n",
       "3       2016-01-08   WLTW  115.480003  116.620003  113.500000  117.440002   \n",
       "4       2016-01-11   WLTW  117.010002  114.970001  114.089996  117.330002   \n",
       "...            ...    ...         ...         ...         ...         ...   \n",
       "851259  2016-12-30    ZBH  103.309998  103.199997  102.849998  103.930000   \n",
       "851260  2016-12-30   ZION   43.070000   43.040001   42.689999   43.310001   \n",
       "851261  2016-12-30    ZTS   53.639999   53.529999   53.270000   53.740002   \n",
       "851262  2016-12-30    AIV   44.730000   45.450001   44.410000   45.590000   \n",
       "851263  2016-12-30    FTV   54.200001   53.630001   53.389999   54.480000   \n",
       "\n",
       "           volume  \n",
       "0       2163600.0  \n",
       "1       2386400.0  \n",
       "2       2489500.0  \n",
       "3       2006300.0  \n",
       "4       1408600.0  \n",
       "...           ...  \n",
       "851259   973800.0  \n",
       "851260  1938100.0  \n",
       "851261  1701200.0  \n",
       "851262  1380900.0  \n",
       "851263   705100.0  \n",
       "\n",
       "[851264 rows x 7 columns]"
      ]
     },
     "execution_count": 3,
     "metadata": {},
     "output_type": "execute_result"
    }
   ],
   "source": [
    "df = pd.read_csv(\"Price.csv\")\n",
    "df"
   ]
  },
  {
   "cell_type": "code",
   "execution_count": 6,
   "metadata": {},
   "outputs": [
    {
     "name": "stdout",
     "output_type": "stream",
     "text": [
      "              date symbol       open      close        low       high  \\\n",
      "713     2010-01-04   YHOO  16.940001  17.100000  16.879999  17.200001   \n",
      "1181    2010-01-05   YHOO  17.219999  17.230000  17.000000  17.230000   \n",
      "1649    2010-01-06   YHOO  17.170000  17.170000  17.070000  17.299999   \n",
      "2117    2010-01-07   YHOO  16.809999  16.700001  16.570000  16.900000   \n",
      "2585    2010-01-08   YHOO  16.680000  16.700001  16.620001  16.760000   \n",
      "...            ...    ...        ...        ...        ...        ...   \n",
      "849257  2016-12-23   YHOO  38.459999  38.660000  38.369999  38.810001   \n",
      "849757  2016-12-27   YHOO  38.590000  38.919998  38.500000  39.070000   \n",
      "850257  2016-12-28   YHOO  39.119999  38.730000  38.709999  39.220001   \n",
      "850757  2016-12-29   YHOO  38.759998  38.639999  38.480000  38.930000   \n",
      "851257  2016-12-30   YHOO  38.720001  38.669998  38.430000  39.000000   \n",
      "\n",
      "            volume  \n",
      "713     16587400.0  \n",
      "1181    11718100.0  \n",
      "1649    16422000.0  \n",
      "2117    31816300.0  \n",
      "2585    15470000.0  \n",
      "...            ...  \n",
      "849257   3840100.0  \n",
      "849757   4240300.0  \n",
      "850257   4393500.0  \n",
      "850757   4170200.0  \n",
      "851257   6431600.0  \n",
      "\n",
      "[1762 rows x 7 columns]\n"
     ]
    }
   ],
   "source": [
    "stock_df = df[df.symbol == 'YHOO']\n",
    "print(stock_df)"
   ]
  },
  {
   "cell_type": "code",
   "execution_count": 46,
   "metadata": {},
   "outputs": [],
   "source": [
    "stock = st.StockDataFrame.retype(stock_df)"
   ]
  },
  {
   "cell_type": "code",
   "execution_count": 47,
   "metadata": {},
   "outputs": [
    {
     "data": {
      "text/html": [
       "<div>\n",
       "<style scoped>\n",
       "    .dataframe tbody tr th:only-of-type {\n",
       "        vertical-align: middle;\n",
       "    }\n",
       "\n",
       "    .dataframe tbody tr th {\n",
       "        vertical-align: top;\n",
       "    }\n",
       "\n",
       "    .dataframe thead th {\n",
       "        text-align: right;\n",
       "    }\n",
       "</style>\n",
       "<table border=\"1\" class=\"dataframe\">\n",
       "  <thead>\n",
       "    <tr style=\"text-align: right;\">\n",
       "      <th></th>\n",
       "      <th>symbol</th>\n",
       "      <th>open</th>\n",
       "      <th>close</th>\n",
       "      <th>low</th>\n",
       "      <th>high</th>\n",
       "      <th>volume</th>\n",
       "    </tr>\n",
       "    <tr>\n",
       "      <th>date</th>\n",
       "      <th></th>\n",
       "      <th></th>\n",
       "      <th></th>\n",
       "      <th></th>\n",
       "      <th></th>\n",
       "      <th></th>\n",
       "    </tr>\n",
       "  </thead>\n",
       "  <tbody>\n",
       "    <tr>\n",
       "      <th>2010-01-04</th>\n",
       "      <td>YHOO</td>\n",
       "      <td>16.940001</td>\n",
       "      <td>17.100000</td>\n",
       "      <td>16.879999</td>\n",
       "      <td>17.200001</td>\n",
       "      <td>16587400.0</td>\n",
       "    </tr>\n",
       "    <tr>\n",
       "      <th>2010-01-05</th>\n",
       "      <td>YHOO</td>\n",
       "      <td>17.219999</td>\n",
       "      <td>17.230000</td>\n",
       "      <td>17.000000</td>\n",
       "      <td>17.230000</td>\n",
       "      <td>11718100.0</td>\n",
       "    </tr>\n",
       "    <tr>\n",
       "      <th>2010-01-06</th>\n",
       "      <td>YHOO</td>\n",
       "      <td>17.170000</td>\n",
       "      <td>17.170000</td>\n",
       "      <td>17.070000</td>\n",
       "      <td>17.299999</td>\n",
       "      <td>16422000.0</td>\n",
       "    </tr>\n",
       "    <tr>\n",
       "      <th>2010-01-07</th>\n",
       "      <td>YHOO</td>\n",
       "      <td>16.809999</td>\n",
       "      <td>16.700001</td>\n",
       "      <td>16.570000</td>\n",
       "      <td>16.900000</td>\n",
       "      <td>31816300.0</td>\n",
       "    </tr>\n",
       "    <tr>\n",
       "      <th>2010-01-08</th>\n",
       "      <td>YHOO</td>\n",
       "      <td>16.680000</td>\n",
       "      <td>16.700001</td>\n",
       "      <td>16.620001</td>\n",
       "      <td>16.760000</td>\n",
       "      <td>15470000.0</td>\n",
       "    </tr>\n",
       "    <tr>\n",
       "      <th>...</th>\n",
       "      <td>...</td>\n",
       "      <td>...</td>\n",
       "      <td>...</td>\n",
       "      <td>...</td>\n",
       "      <td>...</td>\n",
       "      <td>...</td>\n",
       "    </tr>\n",
       "    <tr>\n",
       "      <th>2016-12-23</th>\n",
       "      <td>YHOO</td>\n",
       "      <td>38.459999</td>\n",
       "      <td>38.660000</td>\n",
       "      <td>38.369999</td>\n",
       "      <td>38.810001</td>\n",
       "      <td>3840100.0</td>\n",
       "    </tr>\n",
       "    <tr>\n",
       "      <th>2016-12-27</th>\n",
       "      <td>YHOO</td>\n",
       "      <td>38.590000</td>\n",
       "      <td>38.919998</td>\n",
       "      <td>38.500000</td>\n",
       "      <td>39.070000</td>\n",
       "      <td>4240300.0</td>\n",
       "    </tr>\n",
       "    <tr>\n",
       "      <th>2016-12-28</th>\n",
       "      <td>YHOO</td>\n",
       "      <td>39.119999</td>\n",
       "      <td>38.730000</td>\n",
       "      <td>38.709999</td>\n",
       "      <td>39.220001</td>\n",
       "      <td>4393500.0</td>\n",
       "    </tr>\n",
       "    <tr>\n",
       "      <th>2016-12-29</th>\n",
       "      <td>YHOO</td>\n",
       "      <td>38.759998</td>\n",
       "      <td>38.639999</td>\n",
       "      <td>38.480000</td>\n",
       "      <td>38.930000</td>\n",
       "      <td>4170200.0</td>\n",
       "    </tr>\n",
       "    <tr>\n",
       "      <th>2016-12-30</th>\n",
       "      <td>YHOO</td>\n",
       "      <td>38.720001</td>\n",
       "      <td>38.669998</td>\n",
       "      <td>38.430000</td>\n",
       "      <td>39.000000</td>\n",
       "      <td>6431600.0</td>\n",
       "    </tr>\n",
       "  </tbody>\n",
       "</table>\n",
       "<p>1762 rows × 6 columns</p>\n",
       "</div>"
      ],
      "text/plain": [
       "           symbol       open      close        low       high      volume\n",
       "date                                                                     \n",
       "2010-01-04   YHOO  16.940001  17.100000  16.879999  17.200001  16587400.0\n",
       "2010-01-05   YHOO  17.219999  17.230000  17.000000  17.230000  11718100.0\n",
       "2010-01-06   YHOO  17.170000  17.170000  17.070000  17.299999  16422000.0\n",
       "2010-01-07   YHOO  16.809999  16.700001  16.570000  16.900000  31816300.0\n",
       "2010-01-08   YHOO  16.680000  16.700001  16.620001  16.760000  15470000.0\n",
       "...           ...        ...        ...        ...        ...         ...\n",
       "2016-12-23   YHOO  38.459999  38.660000  38.369999  38.810001   3840100.0\n",
       "2016-12-27   YHOO  38.590000  38.919998  38.500000  39.070000   4240300.0\n",
       "2016-12-28   YHOO  39.119999  38.730000  38.709999  39.220001   4393500.0\n",
       "2016-12-29   YHOO  38.759998  38.639999  38.480000  38.930000   4170200.0\n",
       "2016-12-30   YHOO  38.720001  38.669998  38.430000  39.000000   6431600.0\n",
       "\n",
       "[1762 rows x 6 columns]"
      ]
     },
     "execution_count": 47,
     "metadata": {},
     "output_type": "execute_result"
    }
   ],
   "source": [
    "stock"
   ]
  },
  {
   "cell_type": "code",
   "execution_count": 67,
   "metadata": {},
   "outputs": [
    {
     "data": {
      "text/plain": [
       "dtype('float64')"
      ]
     },
     "execution_count": 67,
     "metadata": {},
     "output_type": "execute_result"
    }
   ],
   "source": [
    "stock.get(\"macd\").dtype"
   ]
  },
  {
   "cell_type": "code",
   "execution_count": 70,
   "metadata": {},
   "outputs": [
    {
     "data": {
      "text/plain": [
       "array([ 0.        ,  0.00291667,  0.00185582, ..., -0.63138655,\n",
       "       -0.63351658, -0.62557276])"
      ]
     },
     "execution_count": 70,
     "metadata": {},
     "output_type": "execute_result"
    }
   ],
   "source": [
    "macd = np.array(stock.get(\"macd\"))\n",
    "macd"
   ]
  },
  {
   "cell_type": "code",
   "execution_count": 78,
   "metadata": {},
   "outputs": [
    {
     "data": {
      "text/plain": [
       "0.0029166666666711194"
      ]
     },
     "execution_count": 78,
     "metadata": {},
     "output_type": "execute_result"
    }
   ],
   "source": [
    "stock.get(\"macd\")[1]"
   ]
  },
  {
   "cell_type": "code",
   "execution_count": 74,
   "metadata": {},
   "outputs": [
    {
     "data": {
      "text/html": [
       "<div>\n",
       "<style scoped>\n",
       "    .dataframe tbody tr th:only-of-type {\n",
       "        vertical-align: middle;\n",
       "    }\n",
       "\n",
       "    .dataframe tbody tr th {\n",
       "        vertical-align: top;\n",
       "    }\n",
       "\n",
       "    .dataframe thead th {\n",
       "        text-align: right;\n",
       "    }\n",
       "</style>\n",
       "<table border=\"1\" class=\"dataframe\">\n",
       "  <thead>\n",
       "    <tr style=\"text-align: right;\">\n",
       "      <th></th>\n",
       "      <th>symbol</th>\n",
       "      <th>open</th>\n",
       "      <th>close</th>\n",
       "      <th>low</th>\n",
       "      <th>high</th>\n",
       "      <th>volume</th>\n",
       "      <th>close_12_ema</th>\n",
       "      <th>close_26_ema</th>\n",
       "      <th>macd</th>\n",
       "      <th>macd_9_ema</th>\n",
       "      <th>macds</th>\n",
       "      <th>macdh</th>\n",
       "    </tr>\n",
       "  </thead>\n",
       "  <tbody>\n",
       "    <tr>\n",
       "      <th>0</th>\n",
       "      <td>YHOO</td>\n",
       "      <td>16.940001</td>\n",
       "      <td>17.100000</td>\n",
       "      <td>16.879999</td>\n",
       "      <td>17.200001</td>\n",
       "      <td>16587400.0</td>\n",
       "      <td>17.100000</td>\n",
       "      <td>17.100000</td>\n",
       "      <td>0.000000</td>\n",
       "      <td>0.000000</td>\n",
       "      <td>0.000000</td>\n",
       "      <td>0.000000</td>\n",
       "    </tr>\n",
       "    <tr>\n",
       "      <th>1</th>\n",
       "      <td>YHOO</td>\n",
       "      <td>17.219999</td>\n",
       "      <td>17.230000</td>\n",
       "      <td>17.000000</td>\n",
       "      <td>17.230000</td>\n",
       "      <td>11718100.0</td>\n",
       "      <td>17.170417</td>\n",
       "      <td>17.167500</td>\n",
       "      <td>0.002917</td>\n",
       "      <td>0.001620</td>\n",
       "      <td>0.001620</td>\n",
       "      <td>0.001296</td>\n",
       "    </tr>\n",
       "    <tr>\n",
       "      <th>2</th>\n",
       "      <td>YHOO</td>\n",
       "      <td>17.170000</td>\n",
       "      <td>17.170000</td>\n",
       "      <td>17.070000</td>\n",
       "      <td>17.299999</td>\n",
       "      <td>16422000.0</td>\n",
       "      <td>17.170254</td>\n",
       "      <td>17.168398</td>\n",
       "      <td>0.001856</td>\n",
       "      <td>0.001717</td>\n",
       "      <td>0.001717</td>\n",
       "      <td>0.000139</td>\n",
       "    </tr>\n",
       "    <tr>\n",
       "      <th>3</th>\n",
       "      <td>YHOO</td>\n",
       "      <td>16.809999</td>\n",
       "      <td>16.700001</td>\n",
       "      <td>16.570000</td>\n",
       "      <td>16.900000</td>\n",
       "      <td>31816300.0</td>\n",
       "      <td>17.021814</td>\n",
       "      <td>17.037455</td>\n",
       "      <td>-0.015641</td>\n",
       "      <td>-0.004163</td>\n",
       "      <td>-0.004163</td>\n",
       "      <td>-0.011478</td>\n",
       "    </tr>\n",
       "    <tr>\n",
       "      <th>4</th>\n",
       "      <td>YHOO</td>\n",
       "      <td>16.680000</td>\n",
       "      <td>16.700001</td>\n",
       "      <td>16.620001</td>\n",
       "      <td>16.760000</td>\n",
       "      <td>15470000.0</td>\n",
       "      <td>16.934378</td>\n",
       "      <td>16.959198</td>\n",
       "      <td>-0.024820</td>\n",
       "      <td>-0.010308</td>\n",
       "      <td>-0.010308</td>\n",
       "      <td>-0.014512</td>\n",
       "    </tr>\n",
       "    <tr>\n",
       "      <th>...</th>\n",
       "      <td>...</td>\n",
       "      <td>...</td>\n",
       "      <td>...</td>\n",
       "      <td>...</td>\n",
       "      <td>...</td>\n",
       "      <td>...</td>\n",
       "      <td>...</td>\n",
       "      <td>...</td>\n",
       "      <td>...</td>\n",
       "      <td>...</td>\n",
       "      <td>...</td>\n",
       "      <td>...</td>\n",
       "    </tr>\n",
       "    <tr>\n",
       "      <th>3519</th>\n",
       "      <td>NaN</td>\n",
       "      <td>NaN</td>\n",
       "      <td>NaN</td>\n",
       "      <td>NaN</td>\n",
       "      <td>NaN</td>\n",
       "      <td>NaN</td>\n",
       "      <td>NaN</td>\n",
       "      <td>NaN</td>\n",
       "      <td>-0.635353</td>\n",
       "      <td>NaN</td>\n",
       "      <td>NaN</td>\n",
       "      <td>NaN</td>\n",
       "    </tr>\n",
       "    <tr>\n",
       "      <th>3520</th>\n",
       "      <td>NaN</td>\n",
       "      <td>NaN</td>\n",
       "      <td>NaN</td>\n",
       "      <td>NaN</td>\n",
       "      <td>NaN</td>\n",
       "      <td>NaN</td>\n",
       "      <td>NaN</td>\n",
       "      <td>NaN</td>\n",
       "      <td>-0.628648</td>\n",
       "      <td>NaN</td>\n",
       "      <td>NaN</td>\n",
       "      <td>NaN</td>\n",
       "    </tr>\n",
       "    <tr>\n",
       "      <th>3521</th>\n",
       "      <td>NaN</td>\n",
       "      <td>NaN</td>\n",
       "      <td>NaN</td>\n",
       "      <td>NaN</td>\n",
       "      <td>NaN</td>\n",
       "      <td>NaN</td>\n",
       "      <td>NaN</td>\n",
       "      <td>NaN</td>\n",
       "      <td>-0.631387</td>\n",
       "      <td>NaN</td>\n",
       "      <td>NaN</td>\n",
       "      <td>NaN</td>\n",
       "    </tr>\n",
       "    <tr>\n",
       "      <th>3522</th>\n",
       "      <td>NaN</td>\n",
       "      <td>NaN</td>\n",
       "      <td>NaN</td>\n",
       "      <td>NaN</td>\n",
       "      <td>NaN</td>\n",
       "      <td>NaN</td>\n",
       "      <td>NaN</td>\n",
       "      <td>NaN</td>\n",
       "      <td>-0.633517</td>\n",
       "      <td>NaN</td>\n",
       "      <td>NaN</td>\n",
       "      <td>NaN</td>\n",
       "    </tr>\n",
       "    <tr>\n",
       "      <th>3523</th>\n",
       "      <td>NaN</td>\n",
       "      <td>NaN</td>\n",
       "      <td>NaN</td>\n",
       "      <td>NaN</td>\n",
       "      <td>NaN</td>\n",
       "      <td>NaN</td>\n",
       "      <td>NaN</td>\n",
       "      <td>NaN</td>\n",
       "      <td>-0.625573</td>\n",
       "      <td>NaN</td>\n",
       "      <td>NaN</td>\n",
       "      <td>NaN</td>\n",
       "    </tr>\n",
       "  </tbody>\n",
       "</table>\n",
       "<p>3524 rows × 12 columns</p>\n",
       "</div>"
      ],
      "text/plain": [
       "     symbol       open      close        low       high      volume  \\\n",
       "0      YHOO  16.940001  17.100000  16.879999  17.200001  16587400.0   \n",
       "1      YHOO  17.219999  17.230000  17.000000  17.230000  11718100.0   \n",
       "2      YHOO  17.170000  17.170000  17.070000  17.299999  16422000.0   \n",
       "3      YHOO  16.809999  16.700001  16.570000  16.900000  31816300.0   \n",
       "4      YHOO  16.680000  16.700001  16.620001  16.760000  15470000.0   \n",
       "...     ...        ...        ...        ...        ...         ...   \n",
       "3519    NaN        NaN        NaN        NaN        NaN         NaN   \n",
       "3520    NaN        NaN        NaN        NaN        NaN         NaN   \n",
       "3521    NaN        NaN        NaN        NaN        NaN         NaN   \n",
       "3522    NaN        NaN        NaN        NaN        NaN         NaN   \n",
       "3523    NaN        NaN        NaN        NaN        NaN         NaN   \n",
       "\n",
       "      close_12_ema  close_26_ema      macd  macd_9_ema     macds     macdh  \n",
       "0        17.100000     17.100000  0.000000    0.000000  0.000000  0.000000  \n",
       "1        17.170417     17.167500  0.002917    0.001620  0.001620  0.001296  \n",
       "2        17.170254     17.168398  0.001856    0.001717  0.001717  0.000139  \n",
       "3        17.021814     17.037455 -0.015641   -0.004163 -0.004163 -0.011478  \n",
       "4        16.934378     16.959198 -0.024820   -0.010308 -0.010308 -0.014512  \n",
       "...            ...           ...       ...         ...       ...       ...  \n",
       "3519           NaN           NaN -0.635353         NaN       NaN       NaN  \n",
       "3520           NaN           NaN -0.628648         NaN       NaN       NaN  \n",
       "3521           NaN           NaN -0.631387         NaN       NaN       NaN  \n",
       "3522           NaN           NaN -0.633517         NaN       NaN       NaN  \n",
       "3523           NaN           NaN -0.625573         NaN       NaN       NaN  \n",
       "\n",
       "[3524 rows x 12 columns]"
      ]
     },
     "execution_count": 74,
     "metadata": {},
     "output_type": "execute_result"
    }
   ],
   "source": [
    "new_df = pd.concat([\n",
    "    stock_df,\n",
    "    pd.DataFrame(stock.get(\"macd\"), dtype=('float64'))\n",
    "], ignore_index=True)\n",
    "new_df"
   ]
  },
  {
   "cell_type": "code",
   "execution_count": 64,
   "metadata": {},
   "outputs": [
    {
     "data": {
      "text/plain": [
       "<function matplotlib.pyplot.show(close=None, block=None)>"
      ]
     },
     "execution_count": 64,
     "metadata": {},
     "output_type": "execute_result"
    },
    {
     "data": {
      "image/png": "[encoded data removed]",
      "text/plain": [
       "<Figure size 432x288 with 1 Axes>"
      ]
     },
     "metadata": {
      "needs_background": "light"
     },
     "output_type": "display_data"
    }
   ],
   "source": [
    "stock['macdh']\n",
    "plt.figure()\n",
    "plt.plot(stock['macdh'])\n",
    "plt.show"
   ]
  },
  {
   "cell_type": "code",
   "execution_count": 63,
   "metadata": {},
   "outputs": [
    {
     "data": {
      "text/plain": [
       "<function matplotlib.pyplot.show(close=None, block=None)>"
      ]
     },
     "execution_count": 63,
     "metadata": {},
     "output_type": "execute_result"
    },
    {
     "data": {
      "image/png": "[encoded data removed]",
      "text/plain": [
       "<Figure size 432x288 with 1 Axes>"
      ]
     },
     "metadata": {
      "needs_background": "light"
     },
     "output_type": "display_data"
    }
   ],
   "source": [
    "stock.get(\"macd\")\n",
    "plt.figure()\n",
    "plt.plot(stock['macd'])\n",
    "plt.show\n"
   ]
  },
  {
   "cell_type": "code",
   "execution_count": 59,
   "metadata": {},
   "outputs": [
    {
     "data": {
      "text/plain": [
       "<function matplotlib.pyplot.show(close=None, block=None)>"
      ]
     },
     "execution_count": 59,
     "metadata": {},
     "output_type": "execute_result"
    },
    {
     "data": {
      "image/png": "[encoded data removed]",
      "text/plain": [
       "<Figure size 432x288 with 1 Axes>"
      ]
     },
     "metadata": {
      "needs_background": "light"
     },
     "output_type": "display_data"
    }
   ],
   "source": [
    "stock['macds']\n",
    "plt.figure()\n",
    "plt.plot(stock['macds'])\n",
    "plt.show\n"
   ]
  },
  {
   "cell_type": "code",
   "execution_count": 55,
   "metadata": {},
   "outputs": [
    {
     "data": {
      "text/plain": [
       "date\n",
       "2010-01-04           NaN\n",
       "2010-01-05    100.000000\n",
       "2010-01-06     64.356436\n",
       "2010-01-07     14.792924\n",
       "2010-01-08     14.792924\n",
       "                 ...    \n",
       "2016-12-23     35.547269\n",
       "2016-12-27     41.805754\n",
       "2016-12-28     38.525298\n",
       "2016-12-29     36.880276\n",
       "2016-12-30     37.940205\n",
       "Name: rsi_6, Length: 1762, dtype: float64"
      ]
     },
     "execution_count": 55,
     "metadata": {},
     "output_type": "execute_result"
    }
   ],
   "source": [
    "stock['rsi_6']"
   ]
  },
  {
   "cell_type": "code",
   "execution_count": 51,
   "metadata": {},
   "outputs": [
    {
     "data": {
      "text/plain": [
       "date\n",
       "2010-01-04           NaN\n",
       "2010-01-05    100.000000\n",
       "2010-01-06     66.511628\n",
       "2010-01-07     17.223283\n",
       "2010-01-08     17.223283\n",
       "                 ...    \n",
       "2016-12-23     38.222478\n",
       "2016-12-27     41.012764\n",
       "2016-12-28     39.587346\n",
       "2016-12-29     38.888896\n",
       "2016-12-30     39.278452\n",
       "Name: rsi_12, Length: 1762, dtype: float64"
      ]
     },
     "execution_count": 51,
     "metadata": {},
     "output_type": "execute_result"
    }
   ],
   "source": [
    "stock['rsi_12']"
   ]
  },
  {
   "cell_type": "code",
   "execution_count": 79,
   "metadata": {},
   "outputs": [],
   "source": [
    "cols = list(new_df)[2:10]"
   ]
  },
  {
   "cell_type": "code",
   "execution_count": 80,
   "metadata": {},
   "outputs": [
    {
     "name": "stdout",
     "output_type": "stream",
     "text": [
      "                close        low       high      volume  close_12_ema  \\\n",
      "date                                                                    \n",
      "2010-01-04  17.100000  16.879999  17.200001  16587400.0     17.100000   \n",
      "2010-01-05  17.230000  17.000000  17.230000  11718100.0     17.170417   \n",
      "2010-01-06  17.170000  17.070000  17.299999  16422000.0     17.170254   \n",
      "2010-01-07  16.700001  16.570000  16.900000  31816300.0     17.021814   \n",
      "2010-01-08  16.700001  16.620001  16.760000  15470000.0     16.934378   \n",
      "...               ...        ...        ...         ...           ...   \n",
      "2016-12-23  38.660000  38.369999  38.810001   3840100.0     39.425909   \n",
      "2016-12-27  38.919998  38.500000  39.070000   4240300.0     39.348077   \n",
      "2016-12-28  38.730000  38.709999  39.220001   4393500.0     39.252988   \n",
      "2016-12-29  38.639999  38.480000  38.930000   4170200.0     39.158682   \n",
      "2016-12-30  38.669998  38.430000  39.000000   6431600.0     39.083500   \n",
      "\n",
      "            close_26_ema      macd  macd_9_ema  \n",
      "date                                            \n",
      "2010-01-04     17.100000  0.000000    0.000000  \n",
      "2010-01-05     17.167500  0.002917    0.001620  \n",
      "2010-01-06     17.168398  0.001856    0.001717  \n",
      "2010-01-07     17.037455 -0.015641   -0.004163  \n",
      "2010-01-08     16.959198 -0.024820   -0.010308  \n",
      "...                  ...       ...         ...  \n",
      "2016-12-23     40.061263 -0.635353   -0.459653  \n",
      "2016-12-27     39.976724 -0.628648   -0.493452  \n",
      "2016-12-28     39.884375 -0.631387   -0.521039  \n",
      "2016-12-29     39.792199 -0.633517   -0.543534  \n",
      "2016-12-30     39.709073 -0.625573   -0.559942  \n",
      "\n",
      "[1762 rows x 8 columns]\n"
     ]
    }
   ],
   "source": [
    "df_training = stock_df[cols].astype(float)\n",
    "print(df_training)"
   ]
  },
  {
   "cell_type": "code",
   "execution_count": 83,
   "metadata": {},
   "outputs": [
    {
     "data": {
      "text/plain": [
       "(1762, 8)"
      ]
     },
     "execution_count": 83,
     "metadata": {},
     "output_type": "execute_result"
    }
   ],
   "source": [
    "scaler = StandardScaler()\n",
    "scaler = scaler.fit(df_training)\n",
    "df_training_scaled = scaler.transform(df_training)\n",
    "\n",
    "df_training_scaled.shape"
   ]
  },
  {
   "cell_type": "code",
   "execution_count": 84,
   "metadata": {},
   "outputs": [],
   "source": [
    "#splitting\n",
    "train_size = int(len(df_training_scaled)*.8)\n",
    "test_size = len(df_training_scaled)-train_size\n",
    "train_data = df_training_scaled[0:train_size,:]\n",
    "test_data = df_training_scaled[train_size:len(df_training_scaled),:] "
   ]
  },
  {
   "cell_type": "code",
   "execution_count": 85,
   "metadata": {},
   "outputs": [
    {
     "name": "stdout",
     "output_type": "stream",
     "text": [
      "trainX shape == (1395, 14, 8).\n",
      "trainY shape == (1395, 1).\n",
      "testX shape == (339, 14, 8).\n",
      "testY shape == (339, 1).\n"
     ]
    }
   ],
   "source": [
    "#data for lstm\n",
    "n_future = 1\n",
    "n_past = 14\n",
    "\n",
    "trainx = []\n",
    "trainy = []\n",
    "\n",
    "for i in range(n_past, len(train_data) - n_future +1):\n",
    "   trainx.append(train_data[i - n_past:i, 0:train_data.shape[1]])\n",
    "   trainy.append(train_data[i + n_future-1:i + n_future, 0])\n",
    "  \n",
    "trainX , trainY = np.array(trainx) , np.array(trainy)\n",
    "\n",
    "testx = []\n",
    "testy = []\n",
    "\n",
    "for i in range(n_past, len(test_data) - n_future +1):\n",
    "   testx.append(test_data[i - n_past:i, 0:train_data.shape[1]])\n",
    "   testy.append(test_data[i + n_future-1:i + n_future, 0])\n",
    "  \n",
    "testX , testY = np.array(testx) , np.array(testy)\n",
    "\n",
    "print(\"trainX shape == {}.\".format(trainX.shape))\n",
    "print(\"trainY shape == {}.\".format(trainY.shape))\n",
    "print(\"testX shape == {}.\".format(testX.shape))\n",
    "print(\"testY shape == {}.\".format(testY.shape))\n"
   ]
  },
  {
   "cell_type": "code",
   "execution_count": 87,
   "metadata": {},
   "outputs": [],
   "source": [
    "x_train = torch.from_numpy(trainX).type(torch.Tensor)\n",
    "x_test = torch.from_numpy(testX).type(torch.Tensor)\n",
    "y_train = torch.from_numpy(trainY).type(torch.Tensor)\n",
    "y_test = torch.from_numpy(testY).type(torch.Tensor)"
   ]
  },
  {
   "cell_type": "code",
   "execution_count": 90,
   "metadata": {},
   "outputs": [],
   "source": [
    "#Device configuration\n",
    "device = torch.device('cuda' if torch.cuda.is_available() else 'cpu')"
   ]
  },
  {
   "cell_type": "code",
   "execution_count": 94,
   "metadata": {},
   "outputs": [],
   "source": [
    "# Hyper-parameters \n",
    "input_size = 8\n",
    "seq_length = 14\n",
    "hidden_size = 2\n",
    "num_classes = 1\n",
    "batch_size = 16\n",
    "learning_rate = 0.001\n",
    "num_layers = 1\n",
    "num_timesteps = 14"
   ]
  },
  {
   "cell_type": "code",
   "execution_count": 95,
   "metadata": {},
   "outputs": [],
   "source": [
    "class MV_LSTM(nn.Module):\n",
    "    def __init__(self, input_size, hidden_size):\n",
    "        super(MV_LSTM, self).__init__()\n",
    "        self.input_size = input_size\n",
    "        self.num_layers = num_layers \n",
    "        self.hidden_size = hidden_size\n",
    "        self.seq_length = seq_length\n",
    "        self.lstm = nn.LSTM(input_size, hidden_size, num_layers, batch_first=True) \n",
    "        #(batch, seq, input)\n",
    "        self.dropout = nn.Dropout(0.3)\n",
    "        self.fc = nn.Linear(hidden_size*seq_length, 1)\n",
    "\n",
    "    def init_hidden(self, batch_size):\n",
    "        h0 = torch.zeros(self.num_layers, batch_size, self.hidden_size)\n",
    "        c0 = torch.zeros(self.num_layers, batch_size, self.hidden_size) \n",
    "        self.hidden = (h0,c0)\n",
    "   \n",
    "    def forward(self, x):\n",
    "        batch_size, seq_length, _ = x.size()\n",
    "        lstm_out, self.hidden = self.lstm(x, self.hidden)\n",
    "        x = lstm_out.contiguous().view(batch_size, -1)\n",
    "        out = self.fc(x)\n",
    "        return out\n",
    "\n",
    "mv_model = MV_LSTM(input_size, hidden_size).to(device)"
   ]
  },
  {
   "cell_type": "code",
   "execution_count": 96,
   "metadata": {},
   "outputs": [
    {
     "name": "stdout",
     "output_type": "stream",
     "text": [
      "MV_LSTM(\n",
      "  (lstm): LSTM(8, 2, batch_first=True)\n",
      "  (dropout): Dropout(p=0.3, inplace=False)\n",
      "  (fc): Linear(in_features=28, out_features=1, bias=True)\n",
      ")\n"
     ]
    }
   ],
   "source": [
    "#create\n",
    "criterion = nn.MSELoss()\n",
    "optimizer = torch.optim.Adam(mv_model.parameters(), lr=learning_rate)  \n",
    "print(mv_model)"
   ]
  },
  {
   "cell_type": "code",
   "execution_count": 97,
   "metadata": {},
   "outputs": [
    {
     "name": "stderr",
     "output_type": "stream",
     "text": [
      "C:\\Users\\Mahdis\\Anaconda3\\envs\\Deep_Learning_Class\\lib\\site-packages\\torch\\nn\\modules\\loss.py:445: UserWarning: Using a target size (torch.Size([16, 1])) that is different to the input size (torch.Size([16])). This will likely lead to incorrect results due to broadcasting. Please ensure they have the same size.\n",
      "  return F.mse_loss(input, target, reduction=self.reduction)\n",
      "C:\\Users\\Mahdis\\Anaconda3\\envs\\Deep_Learning_Class\\lib\\site-packages\\torch\\nn\\modules\\loss.py:445: UserWarning: Using a target size (torch.Size([3, 1])) that is different to the input size (torch.Size([3])). This will likely lead to incorrect results due to broadcasting. Please ensure they have the same size.\n",
      "  return F.mse_loss(input, target, reduction=self.reduction)\n"
     ]
    },
    {
     "name": "stdout",
     "output_type": "stream",
     "text": [
      "epoch :  10 loss :  0.05171046033501625\n",
      "epoch :  20 loss :  0.044600412249565125\n",
      "epoch :  30 loss :  0.028755374252796173\n",
      "epoch :  40 loss :  0.018499724566936493\n",
      "epoch :  50 loss :  0.013431991450488567\n",
      "epoch :  60 loss :  0.010472817346453667\n",
      "epoch :  70 loss :  0.008309234865009785\n",
      "epoch :  80 loss :  0.006693469826132059\n",
      "epoch :  90 loss :  0.0055273850448429585\n"
     ]
    }
   ],
   "source": [
    "#Training\n",
    "train_episodes = 100\n",
    "hist = np.zeros(train_episodes)\n",
    "mv_model.train()\n",
    "for t in range(train_episodes):\n",
    "    for b in range(0,len(trainX),batch_size):\n",
    "        inpt = trainX[b:b+batch_size,:,:]\n",
    "        target =trainY[b:b+batch_size]    \n",
    "        \n",
    "        x_batch = torch.tensor(inpt,dtype=torch.float32)    \n",
    "        y_batch = torch.tensor(target,dtype=torch.float32)\n",
    "       \n",
    "    \n",
    "        mv_model.init_hidden(x_batch.size(0))\n",
    "    #    lstm_out, _ = mv_net.l_lstm(x_batch,nnet.hidden)    \n",
    "    #    lstm_out.contiguous().view(x_batch.size(0),-1)\n",
    "        output = mv_model(x_batch) \n",
    "        loss = criterion(output.view(-1), y_batch)\n",
    "        hist[t] = loss.item()\n",
    "        optimizer.zero_grad() \n",
    "        loss.backward()\n",
    "        optimizer.step()   \n",
    "\n",
    "\n",
    "    if t % 10 == 0 and t !=0:\n",
    "      print('epoch : ' , t , 'loss : ' , loss.item())"
   ]
  },
  {
   "cell_type": "code",
   "execution_count": 98,
   "metadata": {},
   "outputs": [
    {
     "data": {
      "text/plain": [
       "<function matplotlib.pyplot.show(close=None, block=None)>"
      ]
     },
     "execution_count": 98,
     "metadata": {},
     "output_type": "execute_result"
    },
    {
     "data": {
      "image/png": "[encoded data removed]",
      "text/plain": [
       "<Figure size 432x288 with 1 Axes>"
      ]
     },
     "metadata": {
      "needs_background": "light"
     },
     "output_type": "display_data"
    }
   ],
   "source": [
    "plt.figure()\n",
    "plt.plot(hist, label=\"Training Loss\")\n",
    "plt.legend\n",
    "plt.show"
   ]
  },
  {
   "cell_type": "code",
   "execution_count": 99,
   "metadata": {},
   "outputs": [
    {
     "name": "stderr",
     "output_type": "stream",
     "text": [
      "C:\\Users\\Mahdis\\Anaconda3\\envs\\Deep_Learning_Class\\lib\\site-packages\\torch\\nn\\modules\\loss.py:445: UserWarning: Using a target size (torch.Size([16, 1])) that is different to the input size (torch.Size([16])). This will likely lead to incorrect results due to broadcasting. Please ensure they have the same size.\n",
      "  return F.mse_loss(input, target, reduction=self.reduction)\n",
      "C:\\Users\\Mahdis\\Anaconda3\\envs\\Deep_Learning_Class\\lib\\site-packages\\torch\\nn\\modules\\loss.py:445: UserWarning: Using a target size (torch.Size([3, 1])) that is different to the input size (torch.Size([3])). This will likely lead to incorrect results due to broadcasting. Please ensure they have the same size.\n",
      "  return F.mse_loss(input, target, reduction=self.reduction)\n"
     ]
    },
    {
     "name": "stdout",
     "output_type": "stream",
     "text": [
      "epoch :  10 loss :  0.0004646712332032621\n",
      "epoch :  20 loss :  0.000409039668738842\n",
      "epoch :  30 loss :  0.00040265743155032396\n",
      "epoch :  40 loss :  0.0004058975027874112\n",
      "epoch :  50 loss :  0.0004115113406442106\n",
      "epoch :  60 loss :  0.00041817521560005844\n",
      "epoch :  70 loss :  0.00042477011447772384\n",
      "epoch :  80 loss :  0.00042932573705911636\n",
      "epoch :  90 loss :  0.00042919270345009863\n"
     ]
    }
   ],
   "source": [
    "test_episodes = 100\n",
    "mv_model.eval()\n",
    "for t in range(test_episodes):\n",
    "    for b in range(0,len(testX),batch_size):\n",
    "        inpt_t = testX[b:b+batch_size,:,:]\n",
    "        target_t =testY[b:b+batch_size]    \n",
    "        \n",
    "        x_batch_t = torch.tensor(inpt_t,dtype=torch.float32)    \n",
    "        y_batch_t = torch.tensor(target_t,dtype=torch.float32)\n",
    "       \n",
    "    \n",
    "        mv_model.init_hidden(x_batch_t.size(0))\n",
    "    #    lstm_out, _ = mv_net.l_lstm(x_batch,nnet.hidden)    \n",
    "    #    lstm_out.contiguous().view(x_batch.size(0),-1)\n",
    "        output_t = mv_model(x_batch_t) \n",
    "        loss = criterion(output_t.view(-1), y_batch_t)\n",
    "        \n",
    "        optimizer.zero_grad() \n",
    "        loss.backward()\n",
    "        optimizer.step()   \n",
    "\n",
    "\n",
    "    if t % 10 == 0 and t !=0:\n",
    "      print('epoch : ' , t , 'loss : ' , loss.item())\n"
   ]
  },
  {
   "cell_type": "code",
   "execution_count": null,
   "metadata": {},
   "outputs": [],
   "source": []
  }
 ],
 "metadata": {
  "kernelspec": {
   "display_name": "Python 3",
   "language": "python",
   "name": "python3"
  },
  "language_info": {
   "codemirror_mode": {
    "name": "ipython",
    "version": 3
   },
   "file_extension": ".py",
   "mimetype": "text/x-python",
   "name": "python",
   "nbconvert_exporter": "python",
   "pygments_lexer": "ipython3",
   "version": "3.7.9"
  }
 },
 "nbformat": 4,
 "nbformat_minor": 4
}
